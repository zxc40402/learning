{
 "cells": [
  {
   "cell_type": "code",
   "execution_count": 2,
   "metadata": {},
   "outputs": [],
   "source": [
    "import pandas as pd\n",
    "import numpy as np"
   ]
  },
  {
   "cell_type": "code",
   "execution_count": 3,
   "metadata": {},
   "outputs": [
    {
     "name": "stdout",
     "output_type": "stream",
     "text": [
      "0    1\n",
      "1    2\n",
      "2    3\n",
      "dtype: int64\n"
     ]
    }
   ],
   "source": [
    "#1\n",
    "# Write a Pandas program to create and display a one-dimensional array-like object containing an array of data using Pandas module.\n",
    "s = pd.Series([1,2,3])\n",
    "print(s)"
   ]
  },
  {
   "cell_type": "code",
   "execution_count": 4,
   "metadata": {},
   "outputs": [
    {
     "name": "stdout",
     "output_type": "stream",
     "text": [
      "[1, 2, 3]\n"
     ]
    }
   ],
   "source": [
    "#2\n",
    "# Write a Pandas program to convert a Panda module Series to Python list and it's type.\n",
    "print(s.tolist())"
   ]
  },
  {
   "cell_type": "code",
   "execution_count": 5,
   "metadata": {},
   "outputs": [
    {
     "name": "stdout",
     "output_type": "stream",
     "text": [
      "(0     2\n",
      "1     4\n",
      "2     6\n",
      "3     8\n",
      "4    10\n",
      "dtype: int64, 0     1\n",
      "1     3\n",
      "2     5\n",
      "3     7\n",
      "4    10\n",
      "dtype: int64)\n"
     ]
    }
   ],
   "source": [
    "#3\n",
    "# Write a Pandas program to add, subtract, multiple and divide two Pandas Series.\n",
    "s1 = pd.Series([2, 4, 6, 8, 10])\n",
    "s2 = pd.Series([1, 3, 5, 7, 10])\n",
    "ss = s1,s2\n",
    "print(ss)"
   ]
  },
  {
   "cell_type": "code",
   "execution_count": 6,
   "metadata": {},
   "outputs": [
    {
     "name": "stdout",
     "output_type": "stream",
     "text": [
      "0    False\n",
      "1    False\n",
      "2    False\n",
      "3    False\n",
      "4     True\n",
      "dtype: bool\n",
      "0    True\n",
      "1    True\n",
      "2    True\n",
      "3    True\n",
      "4    True\n",
      "dtype: bool\n",
      "0    False\n",
      "1    False\n",
      "2    False\n",
      "3    False\n",
      "4     True\n",
      "dtype: bool\n"
     ]
    }
   ],
   "source": [
    "#4\n",
    "# Write a Pandas program to compare the elements of the two Pandas Series.\n",
    "print(s1 == s2)\n",
    "print(s1 >= s2)\n",
    "print(s1 <= s2)"
   ]
  },
  {
   "cell_type": "code",
   "execution_count": 7,
   "metadata": {},
   "outputs": [
    {
     "name": "stdout",
     "output_type": "stream",
     "text": [
      "a    100\n",
      "b    200\n",
      "c    300\n",
      "d    400\n",
      "e    800\n",
      "dtype: int64\n"
     ]
    }
   ],
   "source": [
    "#5\n",
    "# Write a Pandas program to convert a dictionary to a Pandas series.\n",
    "d = {'a': 100, 'b': 200, 'c': 300, 'd': 400, 'e': 800}\n",
    "ns = pd.Series(d)\n",
    "print(ns)"
   ]
  },
  {
   "cell_type": "code",
   "execution_count": 8,
   "metadata": {},
   "outputs": [
    {
     "name": "stdout",
     "output_type": "stream",
     "text": [
      "0    10\n",
      "1    20\n",
      "2    30\n",
      "3    40\n",
      "4    50\n",
      "dtype: int64\n"
     ]
    }
   ],
   "source": [
    "#6\n",
    "# Write a Pandas program to convert a NumPy array to a Pandas series.\n",
    "np_array = np.array([10, 20, 30, 40, 50])\n",
    "nss = pd.Series(np_array)\n",
    "print(nss)"
   ]
  },
  {
   "cell_type": "code",
   "execution_count": 9,
   "metadata": {},
   "outputs": [
    {
     "name": "stdout",
     "output_type": "stream",
     "text": [
      "0    100.00\n",
      "1    200.00\n",
      "2       NaN\n",
      "3    300.12\n",
      "4    400.00\n",
      "dtype: float64\n"
     ]
    }
   ],
   "source": [
    "#7\n",
    "# Write a Pandas program to change the data type of given a column or a Series.\n",
    "s = pd.Series([100, 200, 'python', 300.12, 400])\n",
    "print(pd.to_numeric(s, errors='coerce'))"
   ]
  },
  {
   "cell_type": "code",
   "execution_count": 11,
   "metadata": {},
   "outputs": [
    {
     "name": "stdout",
     "output_type": "stream",
     "text": [
      "0     1\n",
      "1     2\n",
      "2     3\n",
      "3     4\n",
      "4     7\n",
      "5    11\n",
      "Name: col1, dtype: int64\n"
     ]
    }
   ],
   "source": [
    "#8\n",
    "# Write a Pandas program to convert the first column of a DataFrame as a Series.\n",
    "df = pd.DataFrame(np.array([[1,4,7],[2,5,5],[3,6,8],[4,9,12],[7,5,1],[11,0,11]]), \n",
    "                  columns = ['col1', 'col2','col3'])\n",
    "                  \n",
    "dfs = pd.Series(df.loc[:,'col1'])\n",
    "print(dfs)"
   ]
  },
  {
   "cell_type": "code",
   "execution_count": 12,
   "metadata": {},
   "outputs": [
    {
     "name": "stdout",
     "output_type": "stream",
     "text": [
      "['100' '200' 'python' '300.12' '400']\n"
     ]
    }
   ],
   "source": [
    "#9\n",
    "# Write a Pandas program to convert a given Series to an array.\n",
    "s9 = pd.Series([100,200,'python',300.12,400])\n",
    "ar9 = np.array(s9.values.tolist())\n",
    "print(ar9)\n"
   ]
  },
  {
   "cell_type": "code",
   "execution_count": 13,
   "metadata": {},
   "outputs": [
    {
     "name": "stdout",
     "output_type": "stream",
     "text": [
      "0       Red\n",
      "1     Green\n",
      "2     White\n",
      "3       Red\n",
      "4     Black\n",
      "5    Yellow\n",
      "dtype: object\n"
     ]
    }
   ],
   "source": [
    "#10\n",
    "# Write a Pandas program to convert Series of lists to one Series.\n",
    "s10 = pd.Series([['Red', 'Green', 'White'],['Red', 'Black'],['Yellow']])\n",
    "s10s = s10.apply(pd.Series).stack().reset_index(drop= True)\n",
    "print(s10s)"
   ]
  },
  {
   "cell_type": "code",
   "execution_count": 14,
   "metadata": {},
   "outputs": [
    {
     "name": "stdout",
     "output_type": "stream",
     "text": [
      "0       100\n",
      "1       200\n",
      "3    300.12\n",
      "4       400\n",
      "2    python\n",
      "dtype: object\n"
     ]
    }
   ],
   "source": [
    "#11\n",
    "# Write a Pandas program to sort a given Series.\n",
    "s11 = pd.Series(['100', '200', 'python', '300.12', '400'])\n",
    "print(s11.sort_values())"
   ]
  },
  {
   "cell_type": "code",
   "execution_count": 15,
   "metadata": {},
   "outputs": [
    {
     "name": "stdout",
     "output_type": "stream",
     "text": [
      "0       100\n",
      "1       200\n",
      "2    python\n",
      "3    300.12\n",
      "4       400\n",
      "0       500\n",
      "1       php\n",
      "dtype: object\n"
     ]
    }
   ],
   "source": [
    "#12\n",
    "# Write a Pandas program to add some data to an existing Series.\n",
    "s12 = pd.Series([100, 200, 'python', 300.12, 400])\n",
    "add = pd.Series([500, 'php'])\n",
    "print(s12.append(add))"
   ]
  },
  {
   "cell_type": "code",
   "execution_count": 16,
   "metadata": {},
   "outputs": [
    {
     "name": "stdout",
     "output_type": "stream",
     "text": [
      "0    0\n",
      "1    1\n",
      "2    2\n",
      "3    3\n",
      "4    4\n",
      "5    5\n",
      "dtype: int64\n"
     ]
    }
   ],
   "source": [
    "#13\n",
    "# Write a Pandas program to create a subset of a given series based on value and condition. \n",
    "s13 = pd.Series(range(0, 11))\n",
    "print(s13[:6])"
   ]
  },
  {
   "cell_type": "code",
   "execution_count": 17,
   "metadata": {},
   "outputs": [
    {
     "name": "stdout",
     "output_type": "stream",
     "text": [
      "B    2\n",
      "A    1\n",
      "C    3\n",
      "D    4\n",
      "E    5\n",
      "dtype: int64\n"
     ]
    }
   ],
   "source": [
    "#14\n",
    "# Write a Pandas program to change the order of index of a given series.\n",
    "s14 = pd.Series([1,2,3,4,5], index = ['A', 'B', 'C', 'D', 'E'])\n",
    "s14 = s14.reindex(['B', 'A', 'C', 'D', 'E'])\n",
    "print(s14)"
   ]
  },
  {
   "cell_type": "code",
   "execution_count": 18,
   "metadata": {},
   "outputs": [
    {
     "name": "stdout",
     "output_type": "stream",
     "text": [
      "mean is: 4.818181818181818, standard deviation is: 2.4052284646041735\n"
     ]
    }
   ],
   "source": [
    "#15\n",
    "# Write a Pandas program to create the mean and standard deviation of the data of a given Series.\n",
    "s15 = pd.Series([1,2,3,4,5,6,7,8,9,5,3])\n",
    "mean = np.average(s15)\n",
    "sd = np.std(s15)\n",
    "print(f\"mean is: {mean}, standard deviation is: {sd}\")"
   ]
  },
  {
   "cell_type": "code",
   "execution_count": 19,
   "metadata": {},
   "outputs": [
    {
     "name": "stdout",
     "output_type": "stream",
     "text": [
      "0    1\n",
      "2    3\n",
      "4    5\n",
      "dtype: int64\n"
     ]
    }
   ],
   "source": [
    "#16\n",
    "# Write a Pandas program to get the items of a given series not present in another given series.\n",
    "s16a = pd.Series([1,2,3,4,5])\n",
    "s16b = pd.Series([2,4,6,8,10])\n",
    "print(s16a[~s16a.isin(s16b)])"
   ]
  },
  {
   "cell_type": "code",
   "execution_count": 20,
   "metadata": {},
   "outputs": [
    {
     "name": "stdout",
     "output_type": "stream",
     "text": [
      "0     1\n",
      "2     3\n",
      "4     5\n",
      "5     6\n",
      "6     8\n",
      "7    10\n",
      "dtype: int64\n"
     ]
    }
   ],
   "source": [
    "#17\n",
    "# Write a Pandas program to get the items which are not common of two given series.\n",
    "s17a = pd.Series([1,2,3,4,5])\n",
    "s17b = pd.Series([2,4,6,8,10])\n",
    "union = pd.Series(np.union1d(s17a, s17b))\n",
    "interset = pd.Series(np.intersect1d(s17a, s17b))\n",
    "notcommonsets = union[~union.isin(interset)]\n",
    "print(notcommonsets)"
   ]
  },
  {
   "cell_type": "code",
   "execution_count": 21,
   "metadata": {},
   "outputs": [
    {
     "name": "stdout",
     "output_type": "stream",
     "text": [
      "min is 3.0009381077812103,\n",
      "25th is 8.094638666640218,\n",
      "median is 10.233537051661546,\n",
      "75th is 12.215377329892807,\n",
      "max is 14.612143210254576\n"
     ]
    }
   ],
   "source": [
    "#18\n",
    "# Write a Pandas program to compute the minimum, 25th percentile, median, 75th, and maximum of a given series.\n",
    "rdm = np.random.RandomState(100)\n",
    "s18 = pd.Series(rdm.normal(10, 4, 20))\n",
    "min = s18.min()\n",
    "p25th = np.percentile(s18, 25) \n",
    "med = s18.median()\n",
    "p75th = np.percentile(s18, 75)\n",
    "max = s18.max()\n",
    "print(f'min is {min},\\n25th is {p25th},\\nmedian is {med},\\n75th is {p75th},\\nmax is {max}')"
   ]
  },
  {
   "cell_type": "code",
   "execution_count": 22,
   "metadata": {},
   "outputs": [
    {
     "name": "stdout",
     "output_type": "stream",
     "text": [
      "5    8\n",
      "2    5\n",
      "3    5\n",
      "0    5\n",
      "1    4\n",
      "4    3\n",
      "6    3\n",
      "7    3\n",
      "8    3\n",
      "9    1\n",
      "dtype: int64\n"
     ]
    }
   ],
   "source": [
    "#19\n",
    "# Write a Pandas program to calculate the frequency counts of each unique value of a given series.\n",
    "s19 = pd.Series(np.take(list('0123456789'), np.random.randint(10, size=40)))\n",
    "print(s19.value_counts())"
   ]
  },
  {
   "cell_type": "code",
   "execution_count": 24,
   "metadata": {},
   "outputs": [
    {
     "name": "stdout",
     "output_type": "stream",
     "text": [
      "2    6\n",
      "3    5\n",
      "1    4\n",
      "dtype: int64\n",
      "0     Other\n",
      "1     Other\n",
      "2     Other\n",
      "3     Other\n",
      "4         2\n",
      "5         2\n",
      "6     Other\n",
      "7         2\n",
      "8     Other\n",
      "9     Other\n",
      "10        2\n",
      "11        2\n",
      "12        2\n",
      "13    Other\n",
      "14    Other\n",
      "dtype: object\n"
     ]
    }
   ],
   "source": [
    "#20\n",
    "# Write a Pandas program to display most frequent value in a given series and replace everything else as 'Other' in the series.\n",
    "s20 = pd.Series([3,1,1,3,2,2,1,2,3,1,2,2,2,3,3])\n",
    "print(s20.value_counts())\n",
    "nottop1 = s20.value_counts()[-2:].index.values\n",
    "print(s20.replace(nottop1, 'Other'))"
   ]
  },
  {
   "cell_type": "code",
   "execution_count": 25,
   "metadata": {},
   "outputs": [
    {
     "name": "stdout",
     "output_type": "stream",
     "text": [
      "(array([], dtype=int64),)\n"
     ]
    }
   ],
   "source": [
    "#21\n",
    "# Write a Pandas program to find the positions of numbers that are multiples of 5 of a given series.\n",
    "s21 = pd.Series([1,9,8,6,9,7,1,1,1])\n",
    "print(np.where(s21 % 5 == 0))"
   ]
  },
  {
   "cell_type": "code",
   "execution_count": 26,
   "metadata": {},
   "outputs": [
    {
     "name": "stdout",
     "output_type": "stream",
     "text": [
      "2    4\n",
      "4    8\n",
      "dtype: int64\n"
     ]
    }
   ],
   "source": [
    "#22\n",
    "# Write a Pandas program to extract items at given positions of a given series.\n",
    "s22 =pd.Series(list(range(0,9, 2)))\n",
    "sel = [2, 4]\n",
    "print(s22[sel])\n"
   ]
  },
  {
   "cell_type": "code",
   "execution_count": 27,
   "metadata": {},
   "outputs": [
    {
     "name": "stdout",
     "output_type": "stream",
     "text": [
      "Int64Index([0, 2, 4, 6, 9], dtype='int64')\n"
     ]
    }
   ],
   "source": [
    "#23\n",
    "# Write a Pandas program to get the positions of items of a given series in another given series.\n",
    "s23a = pd.Series([1,2,3,4,5,6,7,8,9,10])\n",
    "s23b = pd.Series([1,3,5,7,10])\n",
    "inter = np.intersect1d(s23a,s23b)\n",
    "print(s23a[s23a.isin(inter)].index)"
   ]
  },
  {
   "cell_type": "code",
   "execution_count": 28,
   "metadata": {},
   "outputs": [
    {
     "name": "stdout",
     "output_type": "stream",
     "text": [
      "0       PhP\n",
      "1    PythoN\n",
      "2      JavA\n",
      "3        C#\n",
      "dtype: object\n"
     ]
    }
   ],
   "source": [
    "#24\n",
    "# Write a Pandas program convert the first and last character of each word to upper case in each word of a given series.\n",
    "s24 = pd.Series(['php', 'python', 'java', 'c#'])\n",
    "print(s24.map(lambda x: x[0].upper() + x[1:-1] + x[-1].upper()))"
   ]
  },
  {
   "cell_type": "code",
   "execution_count": 29,
   "metadata": {},
   "outputs": [
    {
     "name": "stdout",
     "output_type": "stream",
     "text": [
      "0    3\n",
      "1    6\n",
      "2    4\n",
      "3    2\n",
      "dtype: int64\n"
     ]
    }
   ],
   "source": [
    "#25\n",
    "# Write a Pandas program to calculate the number of characters in each word in a given series.\n",
    "s25 = pd.Series(['php', 'python', 'java', 'c#'])\n",
    "print(s25.map(lambda x: len(x)))"
   ]
  },
  {
   "cell_type": "code",
   "execution_count": 30,
   "metadata": {},
   "outputs": [
    {
     "name": "stdout",
     "output_type": "stream",
     "text": [
      "[nan, 2.0, 2.0, 3.0, 2.0, 1.0, 4.0]\n",
      "[nan, nan, 0.0, 1.0, -1.0, -1.0, 3.0]\n"
     ]
    }
   ],
   "source": [
    "#26\n",
    "# Write a Pandas program to compute difference of differences between consecutive numbers of a given series.\n",
    "s26 = pd.Series([1,3,5,8,10,11,15])\n",
    "print(s26.diff().tolist())\n",
    "print(s26.diff().diff().tolist())\n"
   ]
  },
  {
   "cell_type": "code",
   "execution_count": 31,
   "metadata": {},
   "outputs": [
    {
     "name": "stdout",
     "output_type": "stream",
     "text": [
      "0   2015-01-01 00:00:00\n",
      "1   2016-10-02 00:00:00\n",
      "2   2018-03-07 00:00:00\n",
      "3   2014-05-06 00:00:00\n",
      "4   2016-04-12 00:00:00\n",
      "5   2019-04-06 11:20:00\n",
      "dtype: datetime64[ns]\n"
     ]
    }
   ],
   "source": [
    "#27\n",
    "# Write a Pandas program to convert a series of date strings to a timeseries.\n",
    "s27 = pd.Series(['01 Jan 2015', '10-02-2016', '20180307', '2014/05/06', '2016-04-12', '2019-04-06T11:20'])\n",
    "print(pd.to_datetime(s27))"
   ]
  },
  {
   "cell_type": "code",
   "execution_count": 32,
   "metadata": {},
   "outputs": [
    {
     "name": "stdout",
     "output_type": "stream",
     "text": [
      "day of month: [1, 2, 7, 6, 12, 6]\n",
      "day of year: [1, 276, 66, 126, 103, 96]\n",
      "day of week: ['Thursday', 'Sunday', 'Wednesday', 'Tuesday', 'Tuesday', 'Saturday']\n"
     ]
    }
   ],
   "source": [
    "#28\n",
    "# Write a Pandas program to get the day of month, day of year, week number and day of week from a given series of date strings.\n",
    "s28 = pd.Series(['01 Jan 2015', '10-02-2016', '20180307','2014/05/06', '2016-04-12', '2019-04-06T11:20'])\n",
    "s28dt = pd.to_datetime(s28)\n",
    "dom = s28dt.map(lambda x: x.day).tolist()\n",
    "doy = s28dt.map(lambda x: x.dayofyear).tolist()\n",
    "dow = s28dt.map(lambda x: x.day_name()).tolist()\n",
    "print('day of month:', dom)\n",
    "print('day of year:', doy)\n",
    "print('day of week:', dow)"
   ]
  },
  {
   "cell_type": "code",
   "execution_count": 33,
   "metadata": {},
   "outputs": [
    {
     "name": "stdout",
     "output_type": "stream",
     "text": [
      "0    2015-01-11\n",
      "1    2016-02-11\n",
      "2    2017-03-11\n",
      "3    2018-04-11\n",
      "4    2019-05-11\n",
      "dtype: object\n"
     ]
    }
   ],
   "source": [
    "#29\n",
    "# Write a Pandas program to convert year-month string to dates adding a specified day of the month.\n",
    "s29 = pd.Series(['Jan 2015', 'Feb 2016', 'Mar 2017', 'Apr 2018', 'May 2019'])\n",
    "s29dt = pd.to_datetime(s29)\n",
    "print(s29dt.dt.strftime('%Y-%m-11'))"
   ]
  },
  {
   "cell_type": "code",
   "execution_count": 34,
   "metadata": {},
   "outputs": [
    {
     "name": "stdout",
     "output_type": "stream",
     "text": [
      "1     Green\n",
      "2    Orange\n",
      "4    Yellow\n",
      "5     White\n",
      "dtype: object\n"
     ]
    }
   ],
   "source": [
    "#30\n",
    "# Write a Pandas program to filter words from a given series that contain atleast two vowels.\n",
    "s30 = pd.Series(['Red', 'Green', 'Orange', 'Pink', 'Yellow', 'White'])\n",
    "from collections import Counter\n",
    "vowels = list('aeiou')\n",
    "two = s30.map(lambda x: sum(Counter(x.lower()).get(i, 0) for i in vowels) >= 2)\n",
    "print(s30[two])"
   ]
  },
  {
   "cell_type": "code",
   "execution_count": 35,
   "metadata": {},
   "outputs": [
    {
     "name": "stdout",
     "output_type": "stream",
     "text": [
      "16.492422502470642\n"
     ]
    }
   ],
   "source": [
    "#31\n",
    "# Write a Pandas program to compute the Euclidean distance between two given series.\n",
    "s31a = pd.Series([1,2,3,4,5,6,7,8,9,10])\n",
    "s31b = pd.Series([11,8,7,5,6,5,3,4,7,1])\n",
    "print(np.linalg.norm(s31a-s31b))"
   ]
  },
  {
   "cell_type": "code",
   "execution_count": 36,
   "metadata": {},
   "outputs": [
    {
     "name": "stdout",
     "output_type": "stream",
     "text": [
      "Int64Index([1, 4, 8], dtype='int64')\n"
     ]
    }
   ],
   "source": [
    "#32\n",
    "# Write a Pandas program to find the positions of the values neighboured by smaller values on both sides in a given series.\n",
    "s32 = pd.Series([1,8,7,5,6,5,3,4,7,1])\n",
    "left = np.sign(s32.diff())\n",
    "right = np.sign(s32.diff(-1))\n",
    "loc = left + right > 0\n",
    "print(s32[loc].index)"
   ]
  },
  {
   "cell_type": "code",
   "execution_count": 37,
   "metadata": {},
   "outputs": [
    {
     "name": "stdout",
     "output_type": "stream",
     "text": [
      "Counter({'c': 3, ' ': 3, 'd': 3, 'a': 2, 'b': 2, 'e': 2, 'f': 2, 'i': 1})\n"
     ]
    }
   ],
   "source": [
    "#33\n",
    "# Write a Pandas program to replace missing white spaces in a given string with the least frequent character.\n",
    "str33 = 'abc def abcdef icd'\n",
    "s33 = pd.Series(list(str33))\n",
    "print(Counter(s33))\n"
   ]
  },
  {
   "cell_type": "code",
   "execution_count": 38,
   "metadata": {},
   "outputs": [
    {
     "name": "stdout",
     "output_type": "stream",
     "text": [
      "-0.35059797013236527\n"
     ]
    }
   ],
   "source": [
    "#34\n",
    "# Write a Pandas program to compute the autocorrelations of a given numeric series.\n",
    "s34 = pd.Series(np.arange(15) + np.random.normal(1, 10, 15))\n",
    "print(s34.autocorr())"
   ]
  },
  {
   "cell_type": "code",
   "execution_count": 39,
   "metadata": {},
   "outputs": [
    {
     "name": "stdout",
     "output_type": "stream",
     "text": [
      "0    2022-01-02\n",
      "1    2022-01-09\n",
      "2    2022-01-16\n",
      "3    2022-01-23\n",
      "4    2022-01-30\n",
      "5    2022-02-06\n",
      "6    2022-02-13\n",
      "7    2022-02-20\n",
      "8    2022-02-27\n",
      "9    2022-03-06\n",
      "10   2022-03-13\n",
      "11   2022-03-20\n",
      "12   2022-03-27\n",
      "13   2022-04-03\n",
      "14   2022-04-10\n",
      "15   2022-04-17\n",
      "16   2022-04-24\n",
      "17   2022-05-01\n",
      "18   2022-05-08\n",
      "19   2022-05-15\n",
      "20   2022-05-22\n",
      "21   2022-05-29\n",
      "22   2022-06-05\n",
      "23   2022-06-12\n",
      "24   2022-06-19\n",
      "25   2022-06-26\n",
      "26   2022-07-03\n",
      "27   2022-07-10\n",
      "28   2022-07-17\n",
      "29   2022-07-24\n",
      "dtype: datetime64[ns]\n"
     ]
    }
   ],
   "source": [
    "#35\n",
    "# Write a Pandas program to create a TimeSeries to display all the Sundays of given year.\n",
    "s35 = pd.Series(pd.date_range(start = '2022-01-01', periods = 30, freq = 'W-SUN'))\n",
    "print(s35)\n"
   ]
  },
  {
   "cell_type": "code",
   "execution_count": 40,
   "metadata": {},
   "outputs": [
    {
     "name": "stdout",
     "output_type": "stream",
     "text": [
      "   index  0\n",
      "0      0  A\n",
      "1      1  B\n",
      "2      2  C\n",
      "3      3  D\n",
      "4      4  E\n"
     ]
    }
   ],
   "source": [
    "#36\n",
    "# Write a Pandas program to convert given series into a dataframe with its index as another column on the dataframe.\n",
    "s36 = pd.Series(['A', 'B', 'C', 'D', 'E'])\n",
    "print(pd.DataFrame(s36.reset_index()))"
   ]
  },
  {
   "cell_type": "code",
   "execution_count": 41,
   "metadata": {},
   "outputs": [
    {
     "name": "stdout",
     "output_type": "stream",
     "text": [
      "0    0\n",
      "1    1\n",
      "2    2\n",
      "3    3\n",
      "4    4\n",
      "5    5\n",
      "6    6\n",
      "7    7\n",
      "8    8\n",
      "9    9\n",
      "0    p\n",
      "1    q\n",
      "2    r\n",
      "3    s\n",
      "4    t\n",
      "5    u\n",
      "6    v\n",
      "7    w\n",
      "8    x\n",
      "9    y\n",
      "dtype: object\n",
      "   0  1\n",
      "0  0  p\n",
      "1  1  q\n",
      "2  2  r\n",
      "3  3  s\n",
      "4  4  t\n",
      "5  5  u\n",
      "6  6  v\n",
      "7  7  w\n",
      "8  8  x\n",
      "9  9  y\n"
     ]
    }
   ],
   "source": [
    "#37\n",
    "# Write a Pandas program to stack two given series vertically and horizontally.\n",
    "s37a = pd.Series([0,1,2,3,4,5,6,7,8,9])\n",
    "s37b = pd.Series(list('pqrstuvwxy'))\n",
    "print(pd.concat([s37a, s37b], axis = 0))\n",
    "print(pd.concat([s37a, s37b], axis = 1))"
   ]
  },
  {
   "cell_type": "code",
   "execution_count": 42,
   "metadata": {},
   "outputs": [
    {
     "name": "stdout",
     "output_type": "stream",
     "text": [
      "0    True\n",
      "1    True\n",
      "2    True\n",
      "3    True\n",
      "4    True\n",
      "5    True\n",
      "6    True\n",
      "7    True\n",
      "8    True\n",
      "9    True\n",
      "dtype: bool\n"
     ]
    }
   ],
   "source": [
    "#38\n",
    "# Write a Pandas program to check the equality of two given series.\n",
    "s38a = pd.Series([1,8,7,5,6,5,3,4,7,1])\n",
    "s38b = pd.Series([1,8,7,5,6,5,3,4,7,1])\n",
    "print(s38a == s38b)\n"
   ]
  },
  {
   "cell_type": "code",
   "execution_count": 43,
   "metadata": {},
   "outputs": [
    {
     "name": "stdout",
     "output_type": "stream",
     "text": [
      "9\n",
      "4\n"
     ]
    }
   ],
   "source": [
    "#39\n",
    "# Write a Pandas program to find the index of the first occurrence of the smallest and largest value of a given series.\n",
    "s39 = pd.Series([1,3,7,12,88,23,3,1,9,0])\n",
    "# mins = s39.sort_values(ascending = True).index[0]\n",
    "# maxs = s39.sort_values(ascending = False).index[0]\n",
    "print(s39.idxmin())\n",
    "print(s39.idxmax())"
   ]
  },
  {
   "cell_type": "code",
   "execution_count": 44,
   "metadata": {},
   "outputs": [
    {
     "name": "stdout",
     "output_type": "stream",
     "text": [
      "       W      X     Y     Z\n",
      "0  False   True  True  True\n",
      "1  False  False  True  True\n",
      "2  False   True  True  True\n",
      "3  False  False  True  True\n",
      "4   True   True  True  True\n"
     ]
    }
   ],
   "source": [
    "#40\n",
    "# Write a Pandas program to check inequality over the index axis of a given dataframe and a given series.\n",
    "df40 = pd.DataFrame({'W':[68,75,86,80,None],'X':[78,75,None,80,86], 'Y':[84,94,89,86,86],'Z':[86,97,96,72,83]})\n",
    "s40 = pd.Series([68, 75, 86, 80, None]) \n",
    "print(df40.ne(s40, axis = 0))"
   ]
  }
 ],
 "metadata": {
  "interpreter": {
   "hash": "ec6988cacb878edcf37e0f3fff43a63c38bec0d135f27b30ff2171c7b9d23b10"
  },
  "kernelspec": {
   "display_name": "Python 3.9.7 ('ml')",
   "language": "python",
   "name": "python3"
  },
  "language_info": {
   "codemirror_mode": {
    "name": "ipython",
    "version": 3
   },
   "file_extension": ".py",
   "mimetype": "text/x-python",
   "name": "python",
   "nbconvert_exporter": "python",
   "pygments_lexer": "ipython3",
   "version": "3.9.7"
  },
  "orig_nbformat": 4
 },
 "nbformat": 4,
 "nbformat_minor": 2
}
