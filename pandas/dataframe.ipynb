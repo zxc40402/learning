{
 "cells": [
  {
   "cell_type": "code",
   "execution_count": 2,
   "metadata": {},
   "outputs": [],
   "source": [
    "import pandas as pd\n",
    "import numpy as np"
   ]
  },
  {
   "cell_type": "code",
   "execution_count": 2,
   "metadata": {},
   "outputs": [
    {
     "name": "stdout",
     "output_type": "stream",
     "text": [
      "    X   Y   Z\n",
      "0  78  84  86\n",
      "1  85  94  97\n",
      "2  96  89  96\n",
      "3  80  83  72\n",
      "4  86  86  83\n"
     ]
    }
   ],
   "source": [
    "#1\n",
    "# Write a Pandas program to get the powers of an array values element-wise.\n",
    "data = {\"X\": [78, 85, 96, 80, 86], \"Y\": [84, 94, 89 ,83, 86], \"Z\": [86, 97, 96, 72, 83]}\n",
    "df = pd.DataFrame(data)\n",
    "print(df)"
   ]
  },
  {
   "cell_type": "code",
   "execution_count": 4,
   "metadata": {},
   "outputs": [
    {
     "name": "stdout",
     "output_type": "stream",
     "text": [
      "        name  score  attempts qualify\n",
      "a  Anastasia   12.5         1     yes\n",
      "b       Dima    9.0         3      no\n",
      "c  Katherine   16.5         2     yes\n",
      "d      James    NaN         3      no\n",
      "e      Emily    9.0         2      no\n",
      "f    Michael   20.0         3     yes\n",
      "g    Matthew   14.5         1     yes\n",
      "h      Laura    NaN         1      no\n",
      "i      Kevin    8.0         2      no\n",
      "j      Jonas   19.0         1     yes\n"
     ]
    }
   ],
   "source": [
    "#2\n",
    "# Write a Pandas program to create and display a DataFrame from a specified dictionary data which has the index labels.\n",
    "exam_data = {'name': ['Anastasia', 'Dima', 'Katherine', 'James', 'Emily', 'Michael', 'Matthew', 'Laura', 'Kevin', 'Jonas'],\n",
    "            'score': [12.5, 9, 16.5, np.nan, 9, 20, 14.5, np.nan, 8, 19],\n",
    "            'attempts': [1, 3, 2, 3, 2, 3, 1, 1, 2, 1],\n",
    "            'qualify': ['yes', 'no', 'yes', 'no', 'no', 'yes', 'yes', 'no', 'no', 'yes']}\n",
    "labels = ['a', 'b', 'c', 'd', 'e', 'f', 'g', 'h', 'i', 'j']\n",
    "df = pd.DataFrame(data=exam_data, index=labels)\n",
    "print(df)"
   ]
  },
  {
   "cell_type": "code",
   "execution_count": 9,
   "metadata": {},
   "outputs": [
    {
     "name": "stdout",
     "output_type": "stream",
     "text": [
      "<class 'pandas.core.frame.DataFrame'>\n",
      "Index: 10 entries, a to j\n",
      "Data columns (total 4 columns):\n",
      " #   Column    Non-Null Count  Dtype  \n",
      "---  ------    --------------  -----  \n",
      " 0   name      10 non-null     object \n",
      " 1   score     8 non-null      float64\n",
      " 2   attempts  10 non-null     int64  \n",
      " 3   qualify   10 non-null     object \n",
      "dtypes: float64(1), int64(1), object(2)\n",
      "memory usage: 400.0+ bytes\n",
      "None\n"
     ]
    }
   ],
   "source": [
    "#3\n",
    "# Write a Pandas program to display a summary of the basic information about a specified DataFrame and its data.\n",
    "exam_data = {'name': ['Anastasia', 'Dima', 'Katherine', 'James', 'Emily', 'Michael', 'Matthew', 'Laura', 'Kevin', 'Jonas'],\n",
    "            'score': [12.5, 9, 16.5, np.nan, 9, 20, 14.5, np.nan, 8, 19],\n",
    "            'attempts': [1, 3, 2, 3, 2, 3, 1, 1, 2, 1],\n",
    "            'qualify': ['yes', 'no', 'yes', 'no', 'no', 'yes', 'yes', 'no', 'no', 'yes']}\n",
    "labels = ['a', 'b', 'c', 'd', 'e', 'f', 'g', 'h', 'i', 'j']\n",
    "df = pd.DataFrame(data=exam_data, index=labels)\n",
    "print(df.info())"
   ]
  },
  {
   "cell_type": "code",
   "execution_count": 11,
   "metadata": {},
   "outputs": [
    {
     "name": "stdout",
     "output_type": "stream",
     "text": [
      "        name  score  attempts qualify\n",
      "a  Anastasia   12.5         1     yes\n",
      "b       Dima    9.0         3      no\n",
      "c  Katherine   16.5         2     yes\n"
     ]
    }
   ],
   "source": [
    "#4\n",
    "# Write a Pandas program to get the first 3 rows of a given DataFrame. Go to the editor Sample Python dictionary data and list labels:\n",
    "exam_data = {'name': ['Anastasia', 'Dima', 'Katherine', 'James', 'Emily', 'Michael', 'Matthew', 'Laura', 'Kevin', 'Jonas'],\n",
    "            'score': [12.5, 9, 16.5, np.nan, 9, 20, 14.5, np.nan, 8, 19],\n",
    "            'attempts': [1, 3, 2, 3, 2, 3, 1, 1, 2, 1],\n",
    "            'qualify': ['yes', 'no', 'yes', 'no', 'no', 'yes', 'yes', 'no', 'no', 'yes']}\n",
    "labels = ['a', 'b', 'c', 'd', 'e', 'f', 'g', 'h', 'i', 'j']\n",
    "df = pd.DataFrame(data=exam_data, index=labels)\n",
    "print(df[:3])"
   ]
  },
  {
   "cell_type": "code",
   "execution_count": 12,
   "metadata": {},
   "outputs": [
    {
     "name": "stdout",
     "output_type": "stream",
     "text": [
      "        name  score\n",
      "a  Anastasia   12.5\n",
      "b       Dima    9.0\n",
      "c  Katherine   16.5\n",
      "d      James    NaN\n",
      "e      Emily    9.0\n",
      "f    Michael   20.0\n",
      "g    Matthew   14.5\n",
      "h      Laura    NaN\n",
      "i      Kevin    8.0\n",
      "j      Jonas   19.0\n"
     ]
    }
   ],
   "source": [
    "#5\n",
    "# Write a Pandas program to select the 'name' and 'score' columns from the following DataFrame.\n",
    "exam_data = {'name': ['Anastasia', 'Dima', 'Katherine', 'James', 'Emily', 'Michael', 'Matthew', 'Laura', 'Kevin', 'Jonas'],\n",
    "            'score': [12.5, 9, 16.5, np.nan, 9, 20, 14.5, np.nan, 8, 19],\n",
    "            'attempts': [1, 3, 2, 3, 2, 3, 1, 1, 2, 1],\n",
    "            'qualify': ['yes', 'no', 'yes', 'no', 'no', 'yes', 'yes', 'no', 'no', 'yes']}\n",
    "labels = ['a', 'b', 'c', 'd', 'e', 'f', 'g', 'h', 'i', 'j']\n",
    "df = pd.DataFrame(data=exam_data, index=labels)\n",
    "print(df[['name', 'score']])"
   ]
  },
  {
   "cell_type": "code",
   "execution_count": 24,
   "metadata": {},
   "outputs": [
    {
     "name": "stdout",
     "output_type": "stream",
     "text": [
      "   score qualify\n",
      "b    9.0      no\n",
      "d    NaN      no\n",
      "f   20.0     yes\n",
      "g   14.5     yes\n"
     ]
    }
   ],
   "source": [
    "#6\n",
    "# Write a Pandas program to select the specified columns and rows from a given data frame.\n",
    "exam_data = {'name': ['Anastasia', 'Dima', 'Katherine', 'James', 'Emily', 'Michael', 'Matthew', 'Laura', 'Kevin', 'Jonas'],\n",
    "            'score': [12.5, 9, 16.5, np.nan, 9, 20, 14.5, np.nan, 8, 19],\n",
    "            'attempts': [1, 3, 2, 3, 2, 3, 1, 1, 2, 1],\n",
    "            'qualify': ['yes', 'no', 'yes', 'no', 'no', 'yes', 'yes', 'no', 'no', 'yes']}\n",
    "labels = ['a', 'b', 'c', 'd', 'e', 'f', 'g', 'h', 'i', 'j']\n",
    "df = pd.DataFrame(data=exam_data, index=labels)\n",
    "print(df.iloc[[1,3,5,6], [1,3]])"
   ]
  },
  {
   "cell_type": "code",
   "execution_count": 26,
   "metadata": {},
   "outputs": [
    {
     "name": "stdout",
     "output_type": "stream",
     "text": [
      "      name  score  attempts qualify\n",
      "b     Dima    9.0         3      no\n",
      "d    James    NaN         3      no\n",
      "f  Michael   20.0         3     yes\n"
     ]
    }
   ],
   "source": [
    "#7\n",
    "# Write a Pandas program to select the rows where the number of attempts in the examination is greater than 2.\n",
    "exam_data = {'name': ['Anastasia', 'Dima', 'Katherine', 'James', 'Emily', 'Michael', 'Matthew', 'Laura', 'Kevin', 'Jonas'],\n",
    "            'score': [12.5, 9, 16.5, np.nan, 9, 20, 14.5, np.nan, 8, 19],\n",
    "            'attempts': [1, 3, 2, 3, 2, 3, 1, 1, 2, 1],\n",
    "            'qualify': ['yes', 'no', 'yes', 'no', 'no', 'yes', 'yes', 'no', 'no', 'yes']}\n",
    "labels = ['a', 'b', 'c', 'd', 'e', 'f', 'g', 'h', 'i', 'j']\n",
    "df = pd.DataFrame(data=exam_data, index=labels)\n",
    "print(df[df['attempts'] > 2])"
   ]
  },
  {
   "cell_type": "code",
   "execution_count": 43,
   "metadata": {},
   "outputs": [
    {
     "name": "stdout",
     "output_type": "stream",
     "text": [
      "Number of Rows: 10\n",
      "Number of Columns: 4\n"
     ]
    }
   ],
   "source": [
    "#8\n",
    "# Write a Pandas program to count the number of rows and columns of a DataFrame.\n",
    "exam_data = {'name': ['Anastasia', 'Dima', 'Katherine', 'James', 'Emily', 'Michael', 'Matthew', 'Laura', 'Kevin', 'Jonas'],\n",
    "            'score': [12.5, 9, 16.5, np.nan, 9, 20, 14.5, np.nan, 8, 19],\n",
    "            'attempts': [1, 3, 2, 3, 2, 3, 1, 1, 2, 1],\n",
    "            'qualify': ['yes', 'no', 'yes', 'no', 'no', 'yes', 'yes', 'no', 'no', 'yes']}\n",
    "labels = ['a', 'b', 'c', 'd', 'e', 'f', 'g', 'h', 'i', 'j']\n",
    "df = pd.DataFrame(data=exam_data, index=labels)\n",
    "print(\"Number of Rows:\", df.shape[0])\n",
    "print(\"Number of Columns:\", df.shape[1])"
   ]
  },
  {
   "cell_type": "code",
   "execution_count": 37,
   "metadata": {},
   "outputs": [
    {
     "name": "stdout",
     "output_type": "stream",
     "text": [
      "    name  score  attempts qualify\n",
      "d  James    NaN         3      no\n",
      "h  Laura    NaN         1      no\n"
     ]
    }
   ],
   "source": [
    "#9\n",
    "# Write a Pandas program to select the rows where the score is missing, i.e. is NaN. \n",
    "exam_data = {'name': ['Anastasia', 'Dima', 'Katherine', 'James', 'Emily', 'Michael', 'Matthew', 'Laura', 'Kevin', 'Jonas'],\n",
    "            'score': [12.5, 9, 16.5, np.nan, 9, 20, 14.5, np.nan, 8, 19],\n",
    "            'attempts': [1, 3, 2, 3, 2, 3, 1, 1, 2, 1],\n",
    "            'qualify': ['yes', 'no', 'yes', 'no', 'no', 'yes', 'yes', 'no', 'no', 'yes']}\n",
    "labels = ['a', 'b', 'c', 'd', 'e', 'f', 'g', 'h', 'i', 'j']\n",
    "df = pd.DataFrame(data=exam_data, index=labels)\n",
    "print(df[df['score'].isnull()])"
   ]
  },
  {
   "cell_type": "code",
   "execution_count": 42,
   "metadata": {},
   "outputs": [
    {
     "name": "stdout",
     "output_type": "stream",
     "text": [
      "        name  score  attempts qualify\n",
      "c  Katherine   16.5         2     yes\n",
      "f    Michael   20.0         3     yes\n",
      "j      Jonas   19.0         1     yes\n"
     ]
    }
   ],
   "source": [
    "#10\n",
    "# Write a Pandas program to select the rows the score is between 15 and 20 (inclusive).\n",
    "exam_data = {'name': ['Anastasia', 'Dima', 'Katherine', 'James', 'Emily', 'Michael', 'Matthew', 'Laura', 'Kevin', 'Jonas'],\n",
    "            'score': [12.5, 9, 16.5, np.nan, 9, 20, 14.5, np.nan, 8, 19],\n",
    "            'attempts': [1, 3, 2, 3, 2, 3, 1, 1, 2, 1],\n",
    "            'qualify': ['yes', 'no', 'yes', 'no', 'no', 'yes', 'yes', 'no', 'no', 'yes']}\n",
    "labels = ['a', 'b', 'c', 'd', 'e', 'f', 'g', 'h', 'i', 'j']\n",
    "df = pd.DataFrame(data=exam_data, index=labels)\n",
    "print(df[df['score'].between(15, 20)])"
   ]
  },
  {
   "cell_type": "code",
   "execution_count": 48,
   "metadata": {},
   "outputs": [
    {
     "name": "stdout",
     "output_type": "stream",
     "text": [
      "    name  score  attempts qualify\n",
      "j  Jonas   19.0         1     yes\n"
     ]
    }
   ],
   "source": [
    "#11\n",
    "# Write a Pandas program to select the rows where number of attempts in the examination is less than 2 and score greater than 15.\n",
    "exam_data = {'name': ['Anastasia', 'Dima', 'Katherine', 'James', 'Emily', 'Michael', 'Matthew', 'Laura', 'Kevin', 'Jonas'],\n",
    "            'score': [12.5, 9, 16.5, np.nan, 9, 20, 14.5, np.nan, 8, 19],\n",
    "            'attempts': [1, 3, 2, 3, 2, 3, 1, 1, 2, 1],\n",
    "            'qualify': ['yes', 'no', 'yes', 'no', 'no', 'yes', 'yes', 'no', 'no', 'yes']}\n",
    "labels = ['a', 'b', 'c', 'd', 'e', 'f', 'g', 'h', 'i', 'j']\n",
    "df = pd.DataFrame(data=exam_data, index=labels)\n",
    "print(df[(df['attempts'] < 2) & (df['score'] >= 15)])"
   ]
  },
  {
   "cell_type": "code",
   "execution_count": 58,
   "metadata": {},
   "outputs": [
    {
     "name": "stdout",
     "output_type": "stream",
     "text": [
      "        name  score  attempts qualify\n",
      "a  Anastasia   12.5         1     yes\n",
      "b       Dima    9.0         3      no\n",
      "c  Katherine   16.5         2     yes\n",
      "d      James   11.5         3      no\n",
      "e      Emily    9.0         2      no\n",
      "f    Michael   20.0         3     yes\n",
      "g    Matthew   14.5         1     yes\n",
      "h      Laura    NaN         1      no\n",
      "i      Kevin    8.0         2      no\n",
      "j      Jonas   19.0         1     yes\n"
     ]
    }
   ],
   "source": [
    "#12\n",
    "# Write a Pandas program to change the score in row 'd' to 11.5.\n",
    "exam_data = {'name': ['Anastasia', 'Dima', 'Katherine', 'James', 'Emily', 'Michael', 'Matthew', 'Laura', 'Kevin', 'Jonas'],\n",
    "            'score': [12.5, 9, 16.5, np.nan, 9, 20, 14.5, np.nan, 8, 19],\n",
    "            'attempts': [1, 3, 2, 3, 2, 3, 1, 1, 2, 1],\n",
    "            'qualify': ['yes', 'no', 'yes', 'no', 'no', 'yes', 'yes', 'no', 'no', 'yes']}\n",
    "labels = ['a', 'b', 'c', 'd', 'e', 'f', 'g', 'h', 'i', 'j']\n",
    "df = pd.DataFrame(data=exam_data, index=labels)\n",
    "df.loc['d', 'score'] = 11.5\n",
    "print(df)"
   ]
  },
  {
   "cell_type": "code",
   "execution_count": 61,
   "metadata": {},
   "outputs": [
    {
     "name": "stdout",
     "output_type": "stream",
     "text": [
      "19\n"
     ]
    }
   ],
   "source": [
    "#13\n",
    "# Write a Pandas program to calculate the sum of the examination attempts by the students.\n",
    "exam_data = {'name': ['Anastasia', 'Dima', 'Katherine', 'James', 'Emily', 'Michael', 'Matthew', 'Laura', 'Kevin', 'Jonas'],\n",
    "            'score': [12.5, 9, 16.5, np.nan, 9, 20, 14.5, np.nan, 8, 19],\n",
    "            'attempts': [1, 3, 2, 3, 2, 3, 1, 1, 2, 1],\n",
    "            'qualify': ['yes', 'no', 'yes', 'no', 'no', 'yes', 'yes', 'no', 'no', 'yes']}\n",
    "labels = ['a', 'b', 'c', 'd', 'e', 'f', 'g', 'h', 'i', 'j']\n",
    "df = pd.DataFrame(data=exam_data, index=labels)\n",
    "print(df['attempts'].sum())"
   ]
  },
  {
   "cell_type": "code",
   "execution_count": 63,
   "metadata": {},
   "outputs": [
    {
     "name": "stdout",
     "output_type": "stream",
     "text": [
      "13.5625\n"
     ]
    }
   ],
   "source": [
    "#14\n",
    "# Write a Pandas program to calculate the mean score for each different student in DataFrame. \n",
    "exam_data = {'name': ['Anastasia', 'Dima', 'Katherine', 'James', 'Emily', 'Michael', 'Matthew', 'Laura', 'Kevin', 'Jonas'],\n",
    "            'score': [12.5, 9, 16.5, np.nan, 9, 20, 14.5, np.nan, 8, 19],\n",
    "            'attempts': [1, 3, 2, 3, 2, 3, 1, 1, 2, 1],\n",
    "            'qualify': ['yes', 'no', 'yes', 'no', 'no', 'yes', 'yes', 'no', 'no', 'yes']}\n",
    "labels = ['a', 'b', 'c', 'd', 'e', 'f', 'g', 'h', 'i', 'j']\n",
    "df = pd.DataFrame(data=exam_data, index=labels)\n",
    "print(df['score'].mean())"
   ]
  },
  {
   "cell_type": "code",
   "execution_count": 69,
   "metadata": {},
   "outputs": [
    {
     "name": "stdout",
     "output_type": "stream",
     "text": [
      "New dataframe with append row\n",
      "         name score  attempts qualify\n",
      "a  Anastasia  12.5         1     yes\n",
      "b       Dima   9.0         3      no\n",
      "c  Katherine  16.5         2     yes\n",
      "d      James   NaN         3      no\n",
      "e      Emily   9.0         2      no\n",
      "f    Michael  20.0         3     yes\n",
      "g    Matthew  14.5         1     yes\n",
      "h      Laura   NaN         1      no\n",
      "i      Kevin   8.0         2      no\n",
      "j      Jonas  19.0         1     yes\n",
      "k     Suresh   yes         1    15.5\n",
      "New dataframe withou append row\n",
      "         name score  attempts qualify\n",
      "a  Anastasia  12.5         1     yes\n",
      "b       Dima   9.0         3      no\n",
      "c  Katherine  16.5         2     yes\n",
      "d      James   NaN         3      no\n",
      "e      Emily   9.0         2      no\n",
      "f    Michael  20.0         3     yes\n",
      "g    Matthew  14.5         1     yes\n",
      "h      Laura   NaN         1      no\n",
      "i      Kevin   8.0         2      no\n",
      "j      Jonas  19.0         1     yes\n"
     ]
    }
   ],
   "source": [
    "#15\n",
    "# Write a Pandas program to append a new row 'k' to data frame with given values for each column. Now delete the new row and return the original DataFrame.\n",
    "exam_data = {'name': ['Anastasia', 'Dima', 'Katherine', 'James', 'Emily', 'Michael', 'Matthew', 'Laura', 'Kevin', 'Jonas'],\n",
    "            'score': [12.5, 9, 16.5, np.nan, 9, 20, 14.5, np.nan, 8, 19],\n",
    "            'attempts': [1, 3, 2, 3, 2, 3, 1, 1, 2, 1],\n",
    "            'qualify': ['yes', 'no', 'yes', 'no', 'no', 'yes', 'yes', 'no', 'no', 'yes']}\n",
    "labels = ['a', 'b', 'c', 'd', 'e', 'f', 'g', 'h', 'i', 'j']\n",
    "df = pd.DataFrame(data=exam_data, index=labels)\n",
    "df.loc['k'] = [\"Suresh\", \"yes\", 1, 15.5]\n",
    "print(\"New dataframe with append row\\n\", df)\n",
    "df = df.drop(index = 'k', axis = 0)\n",
    "print(\"New dataframe withou append row\\n\", df)"
   ]
  },
  {
   "cell_type": "code",
   "execution_count": 72,
   "metadata": {},
   "outputs": [
    {
     "name": "stdout",
     "output_type": "stream",
     "text": [
      "        name  score  attempts qualify\n",
      "a  Anastasia   12.5         1     yes\n",
      "b       Dima    9.0         3      no\n",
      "e      Emily    9.0         2      no\n",
      "d      James    NaN         3      no\n",
      "j      Jonas   19.0         1     yes\n",
      "c  Katherine   16.5         2     yes\n",
      "i      Kevin    8.0         2      no\n",
      "h      Laura    NaN         1      no\n",
      "g    Matthew   14.5         1     yes\n",
      "f    Michael   20.0         3     yes\n"
     ]
    }
   ],
   "source": [
    "#16\n",
    "# Write a Pandas program to sort the DataFrame first by 'name' in descending order, then by 'score' in ascending order. \n",
    "exam_data = {'name': ['Anastasia', 'Dima', 'Katherine', 'James', 'Emily', 'Michael', 'Matthew', 'Laura', 'Kevin', 'Jonas'],\n",
    "            'score': [12.5, 9, 16.5, np.nan, 9, 20, 14.5, np.nan, 8, 19],\n",
    "            'attempts': [1, 3, 2, 3, 2, 3, 1, 1, 2, 1],\n",
    "            'qualify': ['yes', 'no', 'yes', 'no', 'no', 'yes', 'yes', 'no', 'no', 'yes']}\n",
    "labels = ['a', 'b', 'c', 'd', 'e', 'f', 'g', 'h', 'i', 'j']\n",
    "df = pd.DataFrame(data=exam_data, index=labels)\n",
    "print(df.sort_values(by=['name', 'score'], ascending=['False', 'True']))"
   ]
  },
  {
   "cell_type": "code",
   "execution_count": 75,
   "metadata": {},
   "outputs": [
    {
     "name": "stdout",
     "output_type": "stream",
     "text": [
      "        name  score  attempts  qualify\n",
      "a  Anastasia   12.5         1     True\n",
      "b       Dima    9.0         3    False\n",
      "c  Katherine   16.5         2     True\n",
      "d      James    NaN         3    False\n",
      "e      Emily    9.0         2    False\n",
      "f    Michael   20.0         3     True\n",
      "g    Matthew   14.5         1     True\n",
      "h      Laura    NaN         1    False\n",
      "i      Kevin    8.0         2    False\n",
      "j      Jonas   19.0         1     True\n"
     ]
    }
   ],
   "source": [
    "#17\n",
    "# Write a Pandas program to replace the 'qualify' column contains the values 'yes' and 'no' with True and False.\n",
    "exam_data = {'name': ['Anastasia', 'Dima', 'Katherine', 'James', 'Emily', 'Michael', 'Matthew', 'Laura', 'Kevin', 'Jonas'],\n",
    "            'score': [12.5, 9, 16.5, np.nan, 9, 20, 14.5, np.nan, 8, 19],\n",
    "            'attempts': [1, 3, 2, 3, 2, 3, 1, 1, 2, 1],\n",
    "            'qualify': ['yes', 'no', 'yes', 'no', 'no', 'yes', 'yes', 'no', 'no', 'yes']}\n",
    "labels = ['a', 'b', 'c', 'd', 'e', 'f', 'g', 'h', 'i', 'j']\n",
    "df = pd.DataFrame(data=exam_data, index=labels)\n",
    "re = {'yes': True, 'no': False}\n",
    "print(df.replace({'qualify': re}))"
   ]
  },
  {
   "cell_type": "code",
   "execution_count": 3,
   "metadata": {},
   "outputs": [
    {
     "name": "stdout",
     "output_type": "stream",
     "text": [
      "a    Anastasia\n",
      "b         Dima\n",
      "c    Katherine\n",
      "d       Suresh\n",
      "e        Emily\n",
      "f      Michael\n",
      "g      Matthew\n",
      "h        Laura\n",
      "i        Kevin\n",
      "j        Jonas\n",
      "Name: name, dtype: object\n"
     ]
    }
   ],
   "source": [
    "#18\n",
    "# Write a Pandas program to change the name 'James' to 'Suresh' in name column of the DataFrame\n",
    "exam_data = {'name': ['Anastasia', 'Dima', 'Katherine', 'James', 'Emily', 'Michael', 'Matthew', 'Laura', 'Kevin', 'Jonas'],\n",
    "            'score': [12.5, 9, 16.5, np.nan, 9, 20, 14.5, np.nan, 8, 19],\n",
    "            'attempts': [1, 3, 2, 3, 2, 3, 1, 1, 2, 1],\n",
    "            'qualify': ['yes', 'no', 'yes', 'no', 'no', 'yes', 'yes', 'no', 'no', 'yes']}\n",
    "labels = ['a', 'b', 'c', 'd', 'e', 'f', 'g', 'h', 'i', 'j']\n",
    "df = pd.DataFrame(data=exam_data, index=labels)\n",
    "print(df['name'].replace('James', 'Suresh'))"
   ]
  },
  {
   "cell_type": "code",
   "execution_count": 4,
   "metadata": {},
   "outputs": [
    {
     "name": "stdout",
     "output_type": "stream",
     "text": [
      "        name  score qualify\n",
      "a  Anastasia   12.5     yes\n",
      "b       Dima    9.0      no\n",
      "c  Katherine   16.5     yes\n",
      "d      James    NaN      no\n",
      "e      Emily    9.0      no\n",
      "f    Michael   20.0     yes\n",
      "g    Matthew   14.5     yes\n",
      "h      Laura    NaN      no\n",
      "i      Kevin    8.0      no\n",
      "j      Jonas   19.0     yes\n"
     ]
    }
   ],
   "source": [
    "#19\n",
    "# Write a Pandas program to delete the 'attempts' column from the DataFrame.\n",
    "exam_data = {'name': ['Anastasia', 'Dima', 'Katherine', 'James', 'Emily', 'Michael', 'Matthew', 'Laura', 'Kevin', 'Jonas'],\n",
    "            'score': [12.5, 9, 16.5, np.nan, 9, 20, 14.5, np.nan, 8, 19],\n",
    "            'attempts': [1, 3, 2, 3, 2, 3, 1, 1, 2, 1],\n",
    "            'qualify': ['yes', 'no', 'yes', 'no', 'no', 'yes', 'yes', 'no', 'no', 'yes']}\n",
    "labels = ['a', 'b', 'c', 'd', 'e', 'f', 'g', 'h', 'i', 'j']\n",
    "df = pd.DataFrame(data=exam_data, index=labels)\n",
    "print(df.drop('attempts', axis = 1))"
   ]
  },
  {
   "cell_type": "code",
   "execution_count": 5,
   "metadata": {},
   "outputs": [
    {
     "name": "stdout",
     "output_type": "stream",
     "text": [
      "        name  score  attempts qualify   color\n",
      "a  Anastasia   12.5         1     yes     Red\n",
      "b       Dima    9.0         3      no    Blue\n",
      "c  Katherine   16.5         2     yes  Orange\n",
      "d      James    NaN         3      no     Red\n",
      "e      Emily    9.0         2      no   White\n",
      "f    Michael   20.0         3     yes   White\n",
      "g    Matthew   14.5         1     yes    Blue\n",
      "h      Laura    NaN         1      no   Green\n",
      "i      Kevin    8.0         2      no   Green\n",
      "j      Jonas   19.0         1     yes     Red\n"
     ]
    }
   ],
   "source": [
    "#20\n",
    "# Write a Pandas program to insert a new column in existing DataFrame.\n",
    "exam_data = {'name': ['Anastasia', 'Dima', 'Katherine', 'James', 'Emily', 'Michael', 'Matthew', 'Laura', 'Kevin', 'Jonas'],\n",
    "            'score': [12.5, 9, 16.5, np.nan, 9, 20, 14.5, np.nan, 8, 19],\n",
    "            'attempts': [1, 3, 2, 3, 2, 3, 1, 1, 2, 1],\n",
    "            'qualify': ['yes', 'no', 'yes', 'no', 'no', 'yes', 'yes', 'no', 'no', 'yes']}\n",
    "labels = ['a', 'b', 'c', 'd', 'e', 'f', 'g', 'h', 'i', 'j']\n",
    "df = pd.DataFrame(data=exam_data, index=labels)\n",
    "df['color'] = ['Red','Blue','Orange','Red','White','White','Blue','Green','Green','Red']\n",
    "print(df)"
   ]
  },
  {
   "cell_type": "code",
   "execution_count": 19,
   "metadata": {},
   "outputs": [
    {
     "name": "stdout",
     "output_type": "stream",
     "text": [
      "Anastasia 12.5\n",
      "Dima 9.0\n",
      "Katherine 16.5\n"
     ]
    }
   ],
   "source": [
    "#21\n",
    "# Write a Pandas program to iterate over rows in a DataFrame.\n",
    "exam_data = [{'name':'Anastasia', 'score':12.5}, {'name':'Dima','score':9}, {'name':'Katherine','score':16.5}]\n",
    "df = pd.DataFrame(data=exam_data)\n",
    "for idx, row in df.iterrows():\n",
    "    print(row['name'], row['score'])"
   ]
  },
  {
   "cell_type": "code",
   "execution_count": 22,
   "metadata": {},
   "outputs": [
    {
     "name": "stdout",
     "output_type": "stream",
     "text": [
      "['name' 'score' 'attempts' 'qualify' 'color']\n"
     ]
    }
   ],
   "source": [
    "#22\n",
    "# Write a Pandas program to get list from DataFrame column headers.\n",
    "exam_data = {'name': ['Anastasia', 'Dima', 'Katherine', 'James', 'Emily', 'Michael', 'Matthew', 'Laura', 'Kevin', 'Jonas'],\n",
    "            'score': [12.5, 9, 16.5, np.nan, 9, 20, 14.5, np.nan, 8, 19],\n",
    "            'attempts': [1, 3, 2, 3, 2, 3, 1, 1, 2, 1],\n",
    "            'qualify': ['yes', 'no', 'yes', 'no', 'no', 'yes', 'yes', 'no', 'no', 'yes']}\n",
    "labels = ['a', 'b', 'c', 'd', 'e', 'f', 'g', 'h', 'i', 'j']\n",
    "df = pd.DataFrame(data=exam_data, index=labels)\n",
    "df['color'] = ['Red','Blue','Orange','Red','White','White','Blue','Green','Green','Red']\n",
    "print(df.columns.values)"
   ]
  },
  {
   "cell_type": "code",
   "execution_count": 25,
   "metadata": {},
   "outputs": [
    {
     "name": "stdout",
     "output_type": "stream",
     "text": [
      "   column1  column2  column3\n",
      "0        1        4        7\n",
      "1        2        5        8\n",
      "2        3        6        9\n"
     ]
    }
   ],
   "source": [
    "#23\n",
    "# Write a Pandas program to rename columns of a given DataFrame\n",
    "data = {'col1': [1,2,3], 'col2': [4,5,6], 'col3': [7,8,9]}\n",
    "df = pd.DataFrame(data = data)\n",
    "df = df.rename(columns={'col1':'column1', 'col2': 'column2', 'col3': 'column3'})\n",
    "print(df)"
   ]
  },
  {
   "cell_type": "code",
   "execution_count": 27,
   "metadata": {},
   "outputs": [
    {
     "name": "stdout",
     "output_type": "stream",
     "text": [
      "   col1  col2  col3\n",
      "1     4     5     8\n",
      "3     4     7     0\n"
     ]
    }
   ],
   "source": [
    "#24\n",
    "# Write a Pandas program to select rows from a given DataFrame based on values in some columns.\n",
    "data = {'col1': [1,4,3,4,5], 'col2': [4,5,6,7,8], 'col3': [7,8,9,0,1]}\n",
    "df = pd.DataFrame(data = data)\n",
    "print(df[df['col1'] == 4])"
   ]
  },
  {
   "cell_type": "code",
   "execution_count": 35,
   "metadata": {},
   "outputs": [
    {
     "name": "stdout",
     "output_type": "stream",
     "text": [
      "   col3  col2  col1\n",
      "0     7     4     1\n",
      "1     8     5     4\n",
      "2     9     6     3\n",
      "3     0     7     4\n",
      "4     1     8     5\n"
     ]
    }
   ],
   "source": [
    "#25\n",
    "# Write a Pandas program to change the order of a DataFrame columns.\n",
    "data = {'col1': [1,4,3,4,5], 'col2': [4,5,6,7,8], 'col3': [7,8,9,0,1]}\n",
    "df = pd.DataFrame(data = data)\n",
    "cols = df.columns.values\n",
    "print(df[cols[::-1]])"
   ]
  },
  {
   "cell_type": "code",
   "execution_count": 42,
   "metadata": {},
   "outputs": [
    {
     "name": "stdout",
     "output_type": "stream",
     "text": [
      "   col1  col2  col3\n",
      "0     1     4     7\n",
      "1     4     5     8\n",
      "2     3     6     9\n",
      "3     4     7     0\n",
      "4     5     8     1\n",
      "5    10    11    12\n"
     ]
    }
   ],
   "source": [
    "#26\n",
    "# Write a Pandas program to add one row in an existing DataFrame.\n",
    "data = {'col1': [1,4,3,4,5], 'col2': [4,5,6,7,8], 'col3': [7,8,9,0,1]}\n",
    "df = pd.DataFrame(data = data)\n",
    "new = {'col1': 10, 'col2': 11, 'col3': 12}\n",
    "df = df.append(new, ignore_index=True)\n",
    "print(df)"
   ]
  },
  {
   "cell_type": "code",
   "execution_count": null,
   "metadata": {},
   "outputs": [],
   "source": [
    "#27\n",
    "# Write a Pandas program to write a DataFrame to CSV file using tab separator.\n",
    "data = {'col1': [1,4,3,4,5], 'col2': [4,5,6,7,8], 'col3': [7,8,9,0,1]}\n",
    "df = pd.DataFrame(data = data)\n",
    "df.to_csv('new_file.csv', sep='\\t', index=False)"
   ]
  },
  {
   "cell_type": "code",
   "execution_count": 47,
   "metadata": {},
   "outputs": [
    {
     "name": "stdout",
     "output_type": "stream",
     "text": [
      "          city  Number of people\n",
      "0   California                 4\n",
      "1      Georgia                 2\n",
      "2  Los Angeles                 4\n"
     ]
    }
   ],
   "source": [
    "#28\n",
    "# Write a Pandas program to count city wise number of people from a given of data set (city, name of the person).\n",
    "df= pd.DataFrame({'name': ['Anastasia', 'Dima', 'Katherine', 'James', 'Emily', 'Michael', 'Matthew', 'Laura', 'Kevin', 'Jonas'],\n",
    "                'city': ['California', 'Los Angeles', 'California', 'California', 'California', 'Los Angeles', 'Los Angeles', 'Georgia', 'Georgia', 'Los Angeles']})\n",
    "dfg = df.groupby('city').size().reset_index(name = 'Number of people')\n",
    "print(dfg)"
   ]
  },
  {
   "cell_type": "code",
   "execution_count": 48,
   "metadata": {},
   "outputs": [
    {
     "name": "stdout",
     "output_type": "stream",
     "text": [
      "   col1  col2  col3\n",
      "0     1     4     7\n",
      "2     3     6     9\n",
      "3     4     7     0\n",
      "4     5     8     1\n"
     ]
    }
   ],
   "source": [
    "#29\n",
    "# Write a Pandas program to delete DataFrame row(s) based on given column value.\n",
    "data = {'col1': [1,4,3,4,5], 'col2': [4,5,6,7,8], 'col3': [7,8,9,0,1]}\n",
    "df = pd.DataFrame(data = data)\n",
    "print(df.drop([1], axis = 0))"
   ]
  },
  {
   "cell_type": "code",
   "execution_count": 52,
   "metadata": {},
   "outputs": [
    {
     "name": "stdout",
     "output_type": "stream",
     "text": [
      "   col1  col2  col3\n",
      "0     1     4     7\n",
      "1     4     5     8\n",
      "2     3     6     9\n",
      "3     4     7     0\n",
      "4     5     8     1\n"
     ]
    }
   ],
   "source": [
    "#30\n",
    "# Write a Pandas program to widen output display to see more columns.\n",
    "data = {'col1': [1,4,3,4,5], 'col2': [4,5,6,7,8], 'col3': [7,8,9,0,1]}\n",
    "df = pd.DataFrame(data = data)\n",
    "pd.set_option('display.max_rows', 500)\n",
    "pd.set_option('display.max_columns', 500)\n",
    "pd.set_option('display.width', 1000)\n",
    "print(df)"
   ]
  },
  {
   "cell_type": "code",
   "execution_count": 58,
   "metadata": {},
   "outputs": [
    {
     "name": "stdout",
     "output_type": "stream",
     "text": [
      "   col1  col2  col3\n",
      "2     3     6     9\n"
     ]
    }
   ],
   "source": [
    "#31\n",
    "# Write a Pandas program to select a row of series/dataframe by given integer index.\n",
    "data = {'col1': [1,4,3,4,5], 'col2': [4,5,6,7,8], 'col3': [7,8,9,0,1]}\n",
    "df = pd.DataFrame(data = data)\n",
    "print(df.iloc[[2]])"
   ]
  },
  {
   "cell_type": "code",
   "execution_count": 60,
   "metadata": {},
   "outputs": [
    {
     "name": "stdout",
     "output_type": "stream",
     "text": [
      "        name  score  attempts qualify\n",
      "0  Anastasia   12.5         1     yes\n",
      "1       Dima    9.0         3      no\n",
      "2  Katherine   16.5         2     yes\n",
      "3      James    0.0         3      no\n",
      "4      Emily    9.0         2      no\n",
      "5    Michael   20.0         3     yes\n",
      "6    Matthew   14.5         1     yes\n",
      "7      Laura    0.0         1      no\n",
      "8      Kevin    8.0         2      no\n",
      "9      Jonas   19.0         1     yes\n"
     ]
    }
   ],
   "source": [
    "#32\n",
    "# Write a Pandas program to replace all the NaN values with Zero's in a column of a dataframe.\n",
    "exam_data = {'name': ['Anastasia', 'Dima', 'Katherine', 'James', 'Emily', 'Michael', 'Matthew', 'Laura', 'Kevin', 'Jonas'],\n",
    "            'score': [12.5, 9, 16.5, np.nan, 9, 20, 14.5, np.nan, 8, 19],\n",
    "            'attempts': [1, 3, 2, 3, 2, 3, 1, 1, 2, 1],\n",
    "            'qualify': ['yes', 'no', 'yes', 'no', 'no', 'yes', 'yes', 'no', 'no', 'yes']}\n",
    "df = pd.DataFrame(exam_data)\n",
    "print(df.fillna(0))"
   ]
  },
  {
   "cell_type": "code",
   "execution_count": 63,
   "metadata": {},
   "outputs": [
    {
     "name": "stdout",
     "output_type": "stream",
     "text": [
      "   index       name  score  attempts qualify\n",
      "0      0  Anastasia   12.5         1     yes\n",
      "1      1       Dima    9.0         3      no\n",
      "2      2  Katherine   16.5         2     yes\n",
      "3      3      James    NaN         3      no\n",
      "4      4      Emily    9.0         2      no\n",
      "5      5    Michael   20.0         3     yes\n",
      "6      6    Matthew   14.5         1     yes\n",
      "7      7      Laura    NaN         1      no\n",
      "8      8      Kevin    8.0         2      no\n",
      "9      9      Jonas   19.0         1     yes\n"
     ]
    }
   ],
   "source": [
    "#33\n",
    "# Write a Pandas program to convert index in a column of the given dataframe.\n",
    "exam_data = {'name': ['Anastasia', 'Dima', 'Katherine', 'James', 'Emily', 'Michael', 'Matthew', 'Laura', 'Kevin', 'Jonas'],\n",
    "            'score': [12.5, 9, 16.5, np.nan, 9, 20, 14.5, np.nan, 8, 19],\n",
    "            'attempts': [1, 3, 2, 3, 2, 3, 1, 1, 2, 1],\n",
    "            'qualify': ['yes', 'no', 'yes', 'no', 'no', 'yes', 'yes', 'no', 'no', 'yes']}\n",
    "df = pd.DataFrame(exam_data)\n",
    "print(df.reset_index())"
   ]
  },
  {
   "cell_type": "code",
   "execution_count": 66,
   "metadata": {},
   "outputs": [
    {
     "name": "stdout",
     "output_type": "stream",
     "text": [
      "        name  score  attempts qualify\n",
      "0  Anastasia   12.5         1     yes\n",
      "1       Dima    9.0         3      no\n",
      "2  Katherine   16.5         2     yes\n",
      "3      James    NaN         3      no\n",
      "4      Emily    9.0         2      no\n",
      "5    Michael   20.0         3     yes\n",
      "6    Matthew   14.5         1     yes\n",
      "7      Laura    NaN         1      no\n",
      "8      Kevin   10.2         2      no\n",
      "9      Jonas   19.0         1     yes\n"
     ]
    }
   ],
   "source": [
    "#34\n",
    "# Write a Pandas program to set a given value for particular cell in DataFrame using index value.\n",
    "exam_data = {'name': ['Anastasia', 'Dima', 'Katherine', 'James', 'Emily', 'Michael', 'Matthew', 'Laura', 'Kevin', 'Jonas'],\n",
    "            'score': [12.5, 9, 16.5, np.nan, 9, 20, 14.5, np.nan, 8, 19],\n",
    "            'attempts': [1, 3, 2, 3, 2, 3, 1, 1, 2, 1],\n",
    "            'qualify': ['yes', 'no', 'yes', 'no', 'no', 'yes', 'yes', 'no', 'no', 'yes']}\n",
    "df = pd.DataFrame(exam_data)\n",
    "df.loc[8, 'score'] = 10.2\n",
    "print(df)"
   ]
  },
  {
   "cell_type": "code",
   "execution_count": 72,
   "metadata": {},
   "outputs": [
    {
     "name": "stdout",
     "output_type": "stream",
     "text": [
      "name        0\n",
      "score       2\n",
      "attempts    0\n",
      "qualify     0\n",
      "dtype: int64\n",
      "Number of NaN values in one or more columns: 2\n"
     ]
    }
   ],
   "source": [
    "#35\n",
    "# Write a Pandas program to count the NaN values in one or more columns in DataFrame.\n",
    "exam_data = {'name': ['Anastasia', 'Dima', 'Katherine', 'James', 'Emily', 'Michael', 'Matthew', 'Laura', 'Kevin', 'Jonas'],\n",
    "            'score': [12.5, 9, 16.5, np.nan, 9, 20, 14.5, np.nan, 8, 19],\n",
    "            'attempts': [1, 3, 2, 3, 2, 3, 1, 1, 2, 1],\n",
    "            'qualify': ['yes', 'no', 'yes', 'no', 'no', 'yes', 'yes', 'no', 'no', 'yes']}\n",
    "df = pd.DataFrame(exam_data)\n",
    "print(df.isnull().sum())\n",
    "print(\"Number of NaN values in one or more columns:\", df.isnull().values.sum())"
   ]
  },
  {
   "cell_type": "code",
   "execution_count": 75,
   "metadata": {},
   "outputs": [
    {
     "name": "stdout",
     "output_type": "stream",
     "text": [
      "   col1  col2  col3\n",
      "0     1     4     7\n",
      "1     4     5     8\n",
      "3     4     7     0\n"
     ]
    }
   ],
   "source": [
    "#36\n",
    "# Write a Pandas program to drop a list of rows from a specified DataFrame\n",
    "data = {'col1': [1,4,3,4,5], 'col2': [4,5,6,7,8], 'col3': [7,8,9,0,1]}\n",
    "df = pd.DataFrame(data = data)\n",
    "print(df.drop([2,4], axis = 0))"
   ]
  },
  {
   "cell_type": "code",
   "execution_count": 79,
   "metadata": {},
   "outputs": [
    {
     "name": "stdout",
     "output_type": "stream",
     "text": [
      "   index       name  score  attempts qualify\n",
      "0      2  Katherine   16.5         2     yes\n",
      "1      3      James    NaN         3      no\n",
      "2      4      Emily    9.0         2      no\n",
      "3      5    Michael   20.0         3     yes\n",
      "4      6    Matthew   14.5         1     yes\n",
      "5      7      Laura    NaN         1      no\n",
      "6      8      Kevin    8.0         2      no\n",
      "7      9      Jonas   19.0         1     yes\n"
     ]
    }
   ],
   "source": [
    "#37\n",
    "# Write a Pandas program to reset index in a given DataFrame.\n",
    "exam_data = {'name': ['Anastasia', 'Dima', 'Katherine', 'James', 'Emily', 'Michael', 'Matthew', 'Laura', 'Kevin', 'Jonas'],\n",
    "            'score': [12.5, 9, 16.5, np.nan, 9, 20, 14.5, np.nan, 8, 19],\n",
    "            'attempts': [1, 3, 2, 3, 2, 3, 1, 1, 2, 1],\n",
    "            'qualify': ['yes', 'no', 'yes', 'no', 'no', 'yes', 'yes', 'no', 'no', 'yes']}\n",
    "df = pd.DataFrame(exam_data)\n",
    "df = df[2:]\n",
    "print(df.reset_index())\n"
   ]
  },
  {
   "cell_type": "code",
   "execution_count": 83,
   "metadata": {},
   "outputs": [
    {
     "name": "stdout",
     "output_type": "stream",
     "text": [
      "          0         1\n",
      "7 -2.007334 -1.122305\n",
      "9 -0.054577  0.205258\n",
      "2  0.385323  1.461626\n",
      "0 -0.870022  0.515195\n",
      "1 -1.136917  1.566533\n",
      "3 -1.090387  0.070243\n",
      "8  1.111903  1.331541\n",
      "          0         1\n",
      "4  0.134735  1.046033\n",
      "5  0.994681  0.240832\n",
      "6  0.217331 -0.858668\n"
     ]
    }
   ],
   "source": [
    "#38\n",
    "# Write a Pandas program to divide a DataFrame in a given ratio.\n",
    "df = pd.DataFrame(np.random.randn(10, 2))\n",
    "df_07 = df.sample(frac = 0.7)\n",
    "df_03 = df.drop(df_07.index, axis = 0)\n",
    "print(df_07)\n",
    "print(df_03)"
   ]
  },
  {
   "cell_type": "code",
   "execution_count": 85,
   "metadata": {},
   "outputs": [
    {
     "name": "stdout",
     "output_type": "stream",
     "text": [
      "        0      1\n",
      "0     100     10\n",
      "1     200     20\n",
      "2  python    php\n",
      "3  300.12  30.12\n",
      "4     400     40\n"
     ]
    }
   ],
   "source": [
    "#39\n",
    "# Write a Pandas program to combining two series into a DataFrame.\n",
    "s1 = pd.Series(['100', '200', 'python', '300.12', '400'])\n",
    "s2 = pd.Series(['10', '20', 'php', '30.12', '40'])\n",
    "df = pd.concat([s1, s2], axis = 1)\n",
    "print(df)"
   ]
  },
  {
   "cell_type": "code",
   "execution_count": 88,
   "metadata": {},
   "outputs": [
    {
     "name": "stdout",
     "output_type": "stream",
     "text": [
      "        name  score  attempts qualify\n",
      "5    Michael   20.0         3     yes\n",
      "0  Anastasia   12.5         1     yes\n",
      "7      Laura    NaN         1      no\n",
      "2  Katherine   16.5         2     yes\n",
      "8      Kevin    8.0         2      no\n",
      "9      Jonas   19.0         1     yes\n",
      "3      James    NaN         3      no\n",
      "1       Dima    9.0         3      no\n",
      "4      Emily    9.0         2      no\n",
      "6    Matthew   14.5         1     yes\n"
     ]
    }
   ],
   "source": [
    "#40\n",
    "# Write a Pandas program to shuffle a given DataFrame rows.\n",
    "exam_data = {'name': ['Anastasia', 'Dima', 'Katherine', 'James', 'Emily', 'Michael', 'Matthew', 'Laura', 'Kevin', 'Jonas'],\n",
    "            'score': [12.5, 9, 16.5, np.nan, 9, 20, 14.5, np.nan, 8, 19],\n",
    "            'attempts': [1, 3, 2, 3, 2, 3, 1, 1, 2, 1],\n",
    "            'qualify': ['yes', 'no', 'yes', 'no', 'no', 'yes', 'yes', 'no', 'no', 'yes']}\n",
    "df = pd.DataFrame(exam_data)\n",
    "df =df.sample(frac = 1)\n",
    "print(df)"
   ]
  },
  {
   "cell_type": "code",
   "execution_count": 92,
   "metadata": {},
   "outputs": [
    {
     "name": "stdout",
     "output_type": "stream",
     "text": [
      "        date\n",
      "0 2000-03-11\n",
      "1 2000-03-12\n",
      "2 2000-03-13\n"
     ]
    }
   ],
   "source": [
    "#41\n",
    "# Write a Pandas program to convert DataFrame column type from string to datetime.\n",
    "data = {'date':['3/11/2000', '3/12/2000', '3/13/2000']}\n",
    "df = pd.DataFrame(data)\n",
    "df['date'] = pd.to_datetime(df['date'])\n",
    "print(df)"
   ]
  },
  {
   "cell_type": "code",
   "execution_count": 94,
   "metadata": {},
   "outputs": [
    {
     "name": "stdout",
     "output_type": "stream",
     "text": [
      "   col1  column2  col3\n",
      "0     1        4     7\n",
      "1     2        5     8\n",
      "2     3        6     9\n"
     ]
    }
   ],
   "source": [
    "#42\n",
    "# Write a Pandas program to rename a specific column name in a given DataFrame.\n",
    "data = {'col1': [1,2,3], 'col2': [4,5,6], 'col3': [7,8,9]}\n",
    "df = pd.DataFrame(data)\n",
    "print(df.rename(columns= {'col2': 'column2'}))"
   ]
  },
  {
   "cell_type": "code",
   "execution_count": 98,
   "metadata": {},
   "outputs": [
    {
     "name": "stdout",
     "output_type": "stream",
     "text": [
      "[4, 5, 6]\n"
     ]
    }
   ],
   "source": [
    "#43\n",
    "#  Write a Pandas program to get a list of a specified column of a DataFrame.\n",
    "data = {'col1': [1,2,3], 'col2': [4,5,6], 'col3': [7,8,9]}\n",
    "df = pd.DataFrame(data)\n",
    "print(df['col2'].tolist())"
   ]
  },
  {
   "cell_type": "code",
   "execution_count": 115,
   "metadata": {},
   "outputs": [
    {
     "name": "stdout",
     "output_type": "stream",
     "text": [
      "         Column1  Column2  Column3\n",
      "index1         0      0.0      0.0\n",
      "index2         0      0.0      0.0\n",
      "index3         0      0.0      0.0\n",
      "index4         0      0.0      0.0\n",
      "index5         0      0.0      0.0\n",
      "index6         0      0.0      0.0\n",
      "index7         0      0.0      0.0\n",
      "index8         0      0.0      0.0\n",
      "index9         0      0.0      0.0\n",
      "index10        0      0.0      0.0\n",
      "index11        0      0.0      0.0\n",
      "index12        0      0.0      0.0\n",
      "index13        0      0.0      0.0\n",
      "index14        0      0.0      0.0\n",
      "index15        0      0.0      0.0\n"
     ]
    }
   ],
   "source": [
    "#44\n",
    "# Write a Pandas program to create a DataFrame from a Numpy array and specify the index column and column headers.\n",
    "dtype = [('Column1','int32'), ('Column2','float32'), ('Column3','float32')]\n",
    "values = np.zeros(15, dtype=dtype)\n",
    "index = ['index'+ str(i) for i in range(1, len(values)+1)]\n",
    "df = pd.DataFrame(values, index = index)\n",
    "print(df)"
   ]
  },
  {
   "cell_type": "code",
   "execution_count": 126,
   "metadata": {},
   "outputs": [
    {
     "name": "stdout",
     "output_type": "stream",
     "text": [
      "col1    4\n",
      "col2    3\n",
      "col3    2\n",
      "dtype: int64\n"
     ]
    }
   ],
   "source": [
    "#45\n",
    "# Write a Pandas program to find the row for where the value of a given column is maximum.\n",
    "data = {'col1':[1,2,3,4,7], 'col2': [4,5,6,9,5], 'col3': [7,8,12,1,11]}\n",
    "df = pd.DataFrame(data)\n",
    "print(df.idxmax(axis = 0))"
   ]
  },
  {
   "cell_type": "code",
   "execution_count": 133,
   "metadata": {},
   "outputs": [
    {
     "name": "stdout",
     "output_type": "stream",
     "text": [
      "col4 in the dataframe: False\n",
      "col1 in the dataframe: True\n"
     ]
    }
   ],
   "source": [
    "#46\n",
    "# Write a Pandas program to check whether a given column is present in a DataFrame or not.\n",
    "data = {'col1':[1,2,3,4,7], 'col2': [4,5,6,9,5], 'col3': [7,8,12,1,11]}\n",
    "df = pd.DataFrame(data)\n",
    "print('col4 in the dataframe:', 'col4' in df.columns.values)\n",
    "print('col1 in the dataframe:', 'col1'in df.columns.values)"
   ]
  },
  {
   "cell_type": "code",
   "execution_count": 138,
   "metadata": {},
   "outputs": [
    {
     "name": "stdout",
     "output_type": "stream",
     "text": [
      "col1    1\n",
      "col2    4\n",
      "col3    7\n",
      "Name: 0, dtype: int64\n",
      "col1     7\n",
      "col2     5\n",
      "col3    11\n",
      "Name: 4, dtype: int64\n"
     ]
    }
   ],
   "source": [
    "#47\n",
    "# Write a Pandas program to get the specified row value of a given DataFrame.\n",
    "data = {'col1':[1,2,3,4,7], 'col2': [4,5,6,9,5], 'col3': [7,8,12,1,11]}\n",
    "df = pd.DataFrame(data)\n",
    "print(df.iloc[0])\n",
    "print(df.iloc[4])"
   ]
  },
  {
   "cell_type": "code",
   "execution_count": 139,
   "metadata": {},
   "outputs": [
    {
     "name": "stdout",
     "output_type": "stream",
     "text": [
      "name         object\n",
      "score       float64\n",
      "attempts      int64\n",
      "qualify      object\n",
      "dtype: object\n"
     ]
    }
   ],
   "source": [
    "#48\n",
    "# Write a Pandas program to get the datatypes of columns of a DataFrame.\n",
    "exam_data = {'name': ['Anastasia', 'Dima', 'Katherine', 'James', 'Emily', 'Michael', 'Matthew', 'Laura', 'Kevin', 'Jonas'],\n",
    "            'score': [12.5, 9, 16.5, np.nan, 9, 20, 14.5, np.nan, 8, 19],\n",
    "            'attempts': [1, 3, 2, 3, 2, 3, 1, 1, 2, 1],\n",
    "            'qualify': ['yes', 'no', 'yes', 'no', 'no', 'yes', 'yes', 'no', 'no', 'yes']}\n",
    "df = pd.DataFrame(exam_data)\n",
    "print(df.dtypes)"
   ]
  },
  {
   "cell_type": "code",
   "execution_count": 141,
   "metadata": {},
   "outputs": [
    {
     "name": "stdout",
     "output_type": "stream",
     "text": [
      "   col1  col2\n",
      "0     0     0\n",
      "1     1     1\n",
      "2     2     2\n"
     ]
    }
   ],
   "source": [
    "#49\n",
    "# Write a Pandas program to append data to an empty DataFrame.\n",
    "df = pd.DataFrame()\n",
    "data = pd.DataFrame({\"col1\": range(3),\"col2\": range(3)})\n",
    "df = df.append(data)\n",
    "print(df)"
   ]
  },
  {
   "cell_type": "code",
   "execution_count": 143,
   "metadata": {},
   "outputs": [
    {
     "name": "stdout",
     "output_type": "stream",
     "text": [
      "        name  score  attempts qualify\n",
      "6    Matthew   14.5         1     yes\n",
      "7      Laura    NaN         1      no\n",
      "9      Jonas   19.0         1     yes\n",
      "0  Anastasia   12.5         1     yes\n",
      "8      Kevin    8.0         2      no\n",
      "2  Katherine   16.5         2     yes\n",
      "4      Emily    9.0         2      no\n",
      "5    Michael   20.0         3     yes\n",
      "3      James    NaN         3      no\n",
      "1       Dima    9.0         3      no\n"
     ]
    }
   ],
   "source": [
    "#50\n",
    "# Write a Pandas program to sort a given DataFrame by two or more columns.\n",
    "exam_data = {'name': ['Anastasia', 'Dima', 'Katherine', 'James', 'Emily', 'Michael', 'Matthew', 'Laura', 'Kevin', 'Jonas'],\n",
    "            'score': [12.5, 9, 16.5, np.nan, 9, 20, 14.5, np.nan, 8, 19],\n",
    "            'attempts': [1, 3, 2, 3, 2, 3, 1, 1, 2, 1],\n",
    "            'qualify': ['yes', 'no', 'yes', 'no', 'no', 'yes', 'yes', 'no', 'no', 'yes']}\n",
    "df = pd.DataFrame(exam_data)\n",
    "df = df.sort_values(['attempts', 'name'], ascending=[True, False])\n",
    "print(df)"
   ]
  },
  {
   "cell_type": "code",
   "execution_count": 153,
   "metadata": {},
   "outputs": [
    {
     "name": "stdout",
     "output_type": "stream",
     "text": [
      "name         object\n",
      "score       float64\n",
      "attempts      int64\n",
      "qualify      object\n",
      "dtype: object\n",
      "\n",
      "transform score type\n",
      " name        object\n",
      "score        int64\n",
      "attempts     int64\n",
      "qualify     object\n",
      "dtype: object\n"
     ]
    }
   ],
   "source": [
    "#51 \n",
    "# Write a Pandas program to convert the datatype of a given column (floats to ints).\n",
    "exam_data = {'name': ['Anastasia', 'Dima', 'Katherine', 'James', 'Emily', 'Michael', 'Matthew', 'Laura', 'Kevin', 'Jonas'],\n",
    "            'score': [12.5, 9, 16.5, 10, 9, 20, 14.5, 11, 8, 19],\n",
    "            'attempts': [1, 3, 2, 3, 2, 3, 1, 1, 2, 1],\n",
    "            'qualify': ['yes', 'no', 'yes', 'no', 'no', 'yes', 'yes', 'no', 'no', 'yes']}\n",
    "df = pd.DataFrame(exam_data)\n",
    "print(df.dtypes)\n",
    "df['score'] = df['score'].astype(int)\n",
    "print('\\ntransform score type\\n',df.dtypes)"
   ]
  },
  {
   "cell_type": "code",
   "execution_count": 155,
   "metadata": {},
   "outputs": [
    {
     "name": "stdout",
     "output_type": "stream",
     "text": [
      "        0\n",
      "0  1000.0\n",
      "1  2000.0\n",
      "2  3000.0\n",
      "3 -4000.0\n",
      "4     NaN\n",
      "5     NaN\n"
     ]
    }
   ],
   "source": [
    "#52\n",
    "# Write a Pandas program to remove infinite values from a given DataFrame.\n",
    "df = pd.DataFrame([1000, 2000, 3000, -4000, np.inf, -np.inf])\n",
    "df = df.replace([np.inf, -np.inf], np.nan)\n",
    "print(df)"
   ]
  },
  {
   "cell_type": "code",
   "execution_count": 159,
   "metadata": {},
   "outputs": [
    {
     "name": "stdout",
     "output_type": "stream",
     "text": [
      "   col1  col2  col3\n",
      "0     1     4     7\n",
      "1     2     5     8\n",
      "2     3     6    12\n",
      "3     4     9     1\n",
      "4     7     5    11\n"
     ]
    }
   ],
   "source": [
    "#53\n",
    "# Write a Pandas program to insert a given column at a specific column index in a DataFrame.\n",
    "data = {'col2': [4,5,6,9,5], 'col3': [7,8,12,1,11]}\n",
    "df = pd.DataFrame(data)\n",
    "new_col = [1,2,3,4,7]\n",
    "df.insert(loc = 0, column = 'col1', value = new_col)\n",
    "print(df)"
   ]
  },
  {
   "cell_type": "code",
   "execution_count": 164,
   "metadata": {},
   "outputs": [
    {
     "name": "stdout",
     "output_type": "stream",
     "text": [
      "   col1  col2\n",
      "0     2     4\n",
      "1     1     3\n"
     ]
    }
   ],
   "source": [
    "#54\n",
    "# Write a Pandas program to convert a given list of lists into a Dataframe.\n",
    "s54 = list([[2,4], [1,3]])\n",
    "df = pd.DataFrame(s54, columns=['col1', 'col2'])\n",
    "print(df)"
   ]
  },
  {
   "cell_type": "code",
   "execution_count": 166,
   "metadata": {},
   "outputs": [
    {
     "name": "stdout",
     "output_type": "stream",
     "text": [
      "col1\n",
      "C1          [1, 2]\n",
      "C2    [3, 3, 4, 5]\n",
      "C3             [6]\n",
      "Name: col2, dtype: object\n"
     ]
    }
   ],
   "source": [
    "#55\n",
    "# Write a Pandas program to group by the first column and get second column as lists in rows.\n",
    "df = pd.DataFrame( {'col1':['C1','C1','C2','C2','C2','C3','C2'], 'col2':[1,2,3,3,4,6,5]})\n",
    "print(df.groupby('col1')['col2'].apply(list))"
   ]
  },
  {
   "cell_type": "code",
   "execution_count": 173,
   "metadata": {},
   "outputs": [
    {
     "name": "stdout",
     "output_type": "stream",
     "text": [
      "index of col2:  1\n"
     ]
    }
   ],
   "source": [
    "#56\n",
    "# Write a Pandas program to get column index from column name of a given DataFrame.\n",
    "data = {'col1':[1,2,3,4,7], 'col2': [4,5,6,9,5], 'col3': [7,8,12,1,11]}\n",
    "df = pd.DataFrame(data)\n",
    "print('index of col2: ', df.columns.get_loc('col2'))"
   ]
  },
  {
   "cell_type": "code",
   "execution_count": 177,
   "metadata": {},
   "outputs": [
    {
     "name": "stdout",
     "output_type": "stream",
     "text": [
      "3\n"
     ]
    }
   ],
   "source": [
    "#57\n",
    "# Write a Pandas program to count number of columns of a DataFrame.\n",
    "data = {'col1':[1,2,3,4,7], 'col2': [4,5,6,9,5], 'col3': [7,8,12,1,11]}\n",
    "df = pd.DataFrame(data)\n",
    "print(df.shape[1])"
   ]
  },
  {
   "cell_type": "code",
   "execution_count": 194,
   "metadata": {},
   "outputs": [
    {
     "name": "stdout",
     "output_type": "stream",
     "text": [
      "   col1  col2\n",
      "0     1     4\n",
      "1     2     5\n",
      "2     3     6\n",
      "3     4     9\n",
      "4     7     5\n"
     ]
    }
   ],
   "source": [
    "#58\n",
    "# Write a Pandas program to select all columns, except one given column in a DataFrame.\n",
    "data = {'col1':[1,2,3,4,7], 'col2': [4,5,6,9,5], 'col3': [7,8,12,1,11]}\n",
    "df = pd.DataFrame(data)\n",
    "print(df.iloc[:,:-1])"
   ]
  },
  {
   "cell_type": "code",
   "execution_count": 196,
   "metadata": {},
   "outputs": [
    {
     "name": "stdout",
     "output_type": "stream",
     "text": [
      "   col1  col2  col3\n",
      "0     1     4     7\n",
      "1     2     5     8\n",
      "2     3     6    12\n"
     ]
    }
   ],
   "source": [
    "#59\n",
    "# Write a Pandas program to get first n records of a DataFrame.\n",
    "data = {'col1':[1,2,3,4,7], 'col2': [4,5,6,9,5], 'col3': [7,8,12,1,11]}\n",
    "df = pd.DataFrame(data)\n",
    "print(df.head(3))"
   ]
  },
  {
   "cell_type": "code",
   "execution_count": 205,
   "metadata": {},
   "outputs": [
    {
     "name": "stdout",
     "output_type": "stream",
     "text": [
      "   col1  col2  col3\n",
      "3     4     9    12\n",
      "4     7     5     1\n",
      "5    11     0    11\n"
     ]
    }
   ],
   "source": [
    "#60\n",
    "# Write a Pandas program to get last n records of a DataFrame.\n",
    "data = {'col1':[1,2,3,4,7,11], 'col2': [4,5,6,9,5,0], 'col3': [7,5,8,12,1,11]}\n",
    "df = pd.DataFrame(data)\n",
    "print(df.tail(3))"
   ]
  },
  {
   "cell_type": "code",
   "execution_count": 212,
   "metadata": {},
   "outputs": [
    {
     "name": "stdout",
     "output_type": "stream",
     "text": [
      "   col1  col2  col3\n",
      "5    11     0    11\n",
      "4     7     5     1\n",
      "3     4     9    12\n",
      "   col1  col2  col3\n",
      "3     4     9    12\n",
      "2     3     6     8\n",
      "1     2     5     5\n",
      "   col1  col2  col3\n",
      "3     4     9    12\n",
      "5    11     0    11\n",
      "2     3     6     8\n"
     ]
    }
   ],
   "source": [
    "#61\n",
    "# Write a Pandas program to get topmost n records within each group of a DataFrame.\n",
    "data = {'col1':[1,2,3,4,7,11], 'col2': [4,5,6,9,5,0], 'col3': [7,5,8,12,1,11]}\n",
    "df = pd.DataFrame(data)\n",
    "print(df.nlargest(3, 'col1'))\n",
    "print(df.nlargest(3, 'col2'))\n",
    "print(df.nlargest(3, 'col3'))"
   ]
  },
  {
   "cell_type": "code",
   "execution_count": 214,
   "metadata": {},
   "outputs": [
    {
     "name": "stdout",
     "output_type": "stream",
     "text": [
      "   col1  col2  col3\n",
      "3     4     9    12\n",
      "4     7     5     1\n",
      "5    11     0    11\n"
     ]
    }
   ],
   "source": [
    "#62\n",
    "# Write a Pandas program to remove first n rows of a given DataFrame.\n",
    "data = {'col1':[1,2,3,4,7,11], 'col2': [4,5,6,9,5,0], 'col3': [7,5,8,12,1,11]}\n",
    "df = pd.DataFrame(data)\n",
    "print(df.iloc[3:])"
   ]
  },
  {
   "cell_type": "code",
   "execution_count": 219,
   "metadata": {},
   "outputs": [
    {
     "name": "stdout",
     "output_type": "stream",
     "text": [
      "   col1  col2  col3\n",
      "0     1     4     7\n",
      "1     2     5     5\n",
      "2     3     6     8\n"
     ]
    }
   ],
   "source": [
    "#63\n",
    "# Write a Pandas program to remove last n rows of a given DataFrame.\n",
    "data = {'col1':[1,2,3,4,7,11], 'col2': [4,5,6,9,5,0], 'col3': [7,5,8,12,1,11]}\n",
    "df = pd.DataFrame(data)\n",
    "print(df.iloc[:-3])"
   ]
  },
  {
   "cell_type": "code",
   "execution_count": 229,
   "metadata": {},
   "outputs": [
    {
     "name": "stdout",
     "output_type": "stream",
     "text": [
      "   A_W  A_X  A_Y  A_Z\n",
      "0   68   78   84   86\n",
      "1   75   85   94   97\n",
      "2   86   96   89   96\n",
      "3   80   80   83   72\n",
      "4   66   86   86   83\n",
      "   W_1  X_1  Y_1  Z_1\n",
      "0   68   78   84   86\n",
      "1   75   85   94   97\n",
      "2   86   96   89   96\n",
      "3   80   80   83   72\n",
      "4   66   86   86   83\n"
     ]
    }
   ],
   "source": [
    "#64\n",
    "# Write a Pandas program to add a prefix or suffix to all columns of a given DataFrame.\n",
    "df = pd.DataFrame({'W':[68,75,86,80,66],'X':[78,85,96,80,86], 'Y':[84,94,89,83,86],'Z':[86,97,96,72,83]})\n",
    "# pre_col = 'A_' + df.columns.values\n",
    "# df.columns = pre_col\n",
    "# print(df)\n",
    "# suf_col = df.columns.values + '_1'\n",
    "# df.columns = suf_col\n",
    "# print(df)\n",
    "print(df.add_prefix('A_'))\n",
    "print(df.add_suffix('_1'))"
   ]
  },
  {
   "cell_type": "code",
   "execution_count": 240,
   "metadata": {},
   "outputs": [
    {
     "name": "stdout",
     "output_type": "stream",
     "text": [
      "    Z   Y   X   W\n",
      "0  86  84  78  68\n",
      "1  97  94  85  75\n",
      "2  96  89  96  86\n",
      "3  72  83  80  80\n",
      "4  83  86  86  66\n",
      "    W   X   Y   Z\n",
      "4  66  86  86  83\n",
      "3  80  80  83  72\n",
      "2  86  96  89  96\n",
      "1  75  85  94  97\n",
      "0  68  78  84  86\n",
      "    W   X   Y   Z\n",
      "0  66  86  86  83\n",
      "1  80  80  83  72\n",
      "2  86  96  89  96\n",
      "3  75  85  94  97\n",
      "4  68  78  84  86\n"
     ]
    }
   ],
   "source": [
    "#65\n",
    "# Write a Pandas program to reverse order (rows, columns) of a given DataFrame.\n",
    "df = pd.DataFrame({'W':[68,75,86,80,66],'X':[78,85,96,80,86], 'Y':[84,94,89,83,86],'Z':[86,97,96,72,83]})\n",
    "print(df.iloc[:, ::-1])\n",
    "print(df[::-1])\n",
    "print(df[::-1].reset_index(drop=True))"
   ]
  },
  {
   "cell_type": "code",
   "execution_count": 248,
   "metadata": {},
   "outputs": [
    {
     "name": "stdout",
     "output_type": "stream",
     "text": [
      "name              object\n",
      "date_of_birth     object\n",
      "age              float64\n",
      "dtype: object\n",
      "    age\n",
      "0  18.5\n",
      "1  21.2\n",
      "2  22.5\n",
      "3  22.0\n",
      "4  23.0\n",
      "             name date_of_birth\n",
      "0  Alberto Franco    17/05/2002\n",
      "1    Gino Mcneill    16/02/1999\n",
      "2     Ryan Parkes    25/09/1998\n",
      "3    Eesha Hinton    11/05/2002\n",
      "4    Syed Wharton    15/09/1997\n"
     ]
    }
   ],
   "source": [
    "#66\n",
    "# Write a Pandas program to select columns by data type of a given DataFrame.\n",
    "df = pd.DataFrame({\n",
    "    'name': ['Alberto Franco','Gino Mcneill','Ryan Parkes', 'Eesha Hinton', 'Syed Wharton'],\n",
    "    'date_of_birth': ['17/05/2002','16/02/1999','25/09/1998','11/05/2002','15/09/1997'],\n",
    "    'age': [18.5, 21.2, 22.5, 22, 23]\n",
    "    })\n",
    "print(df.dtypes)\n",
    "print(df.select_dtypes('number'))\n",
    "print(df.select_dtypes('object'))"
   ]
  },
  {
   "cell_type": "code",
   "execution_count": 250,
   "metadata": {},
   "outputs": [
    {
     "name": "stdout",
     "output_type": "stream",
     "text": [
      "             name date_of_birth   age\n",
      "2     Ryan Parkes    25/09/1998  22.5\n",
      "1    Gino Mcneill    16/02/1999  21.2\n",
      "0  Alberto Franco    17/05/2002  18.5\n",
      "(3, 3)\n",
      "           name date_of_birth   age\n",
      "3  Eesha Hinton    11/05/2002  22.0\n",
      "4  Syed Wharton    15/09/1997  23.0\n",
      "(2, 3)\n"
     ]
    }
   ],
   "source": [
    "#67\n",
    "# Write a Pandas program to split a given DataFrame into two random subsets.\n",
    "df = pd.DataFrame({\n",
    "    'name': ['Alberto Franco','Gino Mcneill','Ryan Parkes', 'Eesha Hinton', 'Syed Wharton'],\n",
    "    'date_of_birth': ['17/05/2002','16/02/1999','25/09/1998','11/05/2002','15/09/1997'],\n",
    "    'age': [18.5, 21.2, 22.5, 22, 23]\n",
    "    })\n",
    "df_1 = df.sample(frac = 0.6)\n",
    "df_2 = df.drop(df_1.index)\n",
    "print(df_1)\n",
    "print(df_1.shape)\n",
    "print(df_2)\n",
    "print(df_2.shape)"
   ]
  },
  {
   "cell_type": "code",
   "execution_count": 252,
   "metadata": {},
   "outputs": [
    {
     "name": "stdout",
     "output_type": "stream",
     "text": [
      "             name date_of_birth   age\n",
      "0  Alberto Franco    17/05/2002  18.5\n",
      "1    Gino Mcneill    16/02/1999  21.2\n",
      "2     Ryan Parkes    25/09/1998  22.5\n",
      "3    Eesha Hinton    11/05/2002  22.0\n",
      "4    Syed Wharton    15/09/1997  23.0\n"
     ]
    }
   ],
   "source": [
    "#68\n",
    "# Write a Pandas program to rename all columns with the same pattern of a given DataFrame.\n",
    "df = pd.DataFrame({\n",
    "    'name': ['Alberto Franco','Gino Mcneill','Ryan Parkes', 'Eesha Hinton', 'Syed Wharton'],\n",
    "    'date_of_birth': ['17/05/2002','16/02/1999','25/09/1998','11/05/2002','15/09/1997'],\n",
    "    'age': [18.5, 21.2, 22.5, 22, 23]\n",
    "    })\n",
    "df.columns = df.columns.str.lower()\n",
    "print(df)"
   ]
  },
  {
   "cell_type": "code",
   "execution_count": 256,
   "metadata": {},
   "outputs": [
    {
     "name": "stdout",
     "output_type": "stream",
     "text": [
      "           name date_of_birth   age\n",
      "0  Eesha Hinton    11/05/2002  22.0\n",
      "1  Syed Wharton    15/09/1997  23.0\n"
     ]
    }
   ],
   "source": [
    "#69\n",
    "# Write a Pandas program to merge datasets and check uniqueness.\n",
    "df = pd.DataFrame({\n",
    "    'name': ['Alberto Franco','Gino Mcneill','Ryan Parkes', 'Eesha Hinton', 'Syed Wharton'],\n",
    "    'date_of_birth': ['17/05/2002','16/02/1999','25/09/1998','11/05/2002','15/09/1997'],\n",
    "    'age': [18.5, 21.2, 22.5, 22, 23]\n",
    "    })\n",
    "df1 = df.copy(deep = True)\n",
    "df = df.drop([0, 1])\n",
    "df1 = df1.drop([2])\n",
    "df_one_to_one = pd.merge(df, df1, validate = \"one_to_one\")\n",
    "print(df_one_to_one)"
   ]
  },
  {
   "cell_type": "code",
   "execution_count": 259,
   "metadata": {},
   "outputs": [
    {
     "name": "stdout",
     "output_type": "stream",
     "text": [
      "0       kids\n",
      "1      adult\n",
      "2    elderly\n",
      "3      adult\n",
      "4    elderly\n",
      "5       kids\n",
      "Name: age_groups, dtype: category\n",
      "Categories (3, object): ['kids' < 'adult' < 'elderly']\n"
     ]
    }
   ],
   "source": [
    "#70\n",
    "# Write a Pandas program to convert continuous values of a column in a given DataFrame to categorical.\n",
    "df = pd.DataFrame({\n",
    "        'name': ['Alberto Franco','Gino Mcneill','Ryan Parkes', 'Eesha Hinton', 'Syed Wharton', 'Kierra Gentry'],\n",
    "        'age': [18, 22, 85, 50, 80, 5]\n",
    "})\n",
    "df[\"age_groups\"] = pd.cut(df[\"age\"], bins = [0, 18, 65, 99], labels = [\"kids\", \"adult\", \"elderly\"])\n",
    "print(df[\"age_groups\"])"
   ]
  },
  {
   "cell_type": "code",
   "execution_count": 10,
   "metadata": {},
   "outputs": [
    {
     "name": "stdout",
     "output_type": "stream",
     "text": [
      "<class 'pandas.core.frame.DataFrame'>\n",
      "RangeIndex: 5 entries, 0 to 4\n",
      "Data columns (total 3 columns):\n",
      " #   Column         Non-Null Count  Dtype  \n",
      "---  ------         --------------  -----  \n",
      " 0   name           5 non-null      object \n",
      " 1   date_of_birth  5 non-null      object \n",
      " 2   age            5 non-null      float64\n",
      "dtypes: float64(1), object(2)\n",
      "memory usage: 849.0 bytes\n",
      "None\n",
      "Index            128\n",
      "name             346\n",
      "date_of_birth    335\n",
      "age               40\n",
      "dtype: int64\n"
     ]
    }
   ],
   "source": [
    "#71\n",
    "# Write a Pandas program to display memory usage of a given DataFrame and every column of the DataFrame.\n",
    "df = pd.DataFrame({\n",
    "    'name': ['Alberto Franco','Gino Mcneill','Ryan Parkes', 'Eesha Hinton', 'Syed Wharton'],\n",
    "    'date_of_birth': ['17/05/2002','16/02/1999','25/09/1998','11/05/2002','15/09/1997'],\n",
    "    'age': [18.5, 21.2, 22.5, 22, 23]\n",
    "    })\n",
    "print(df.info(memory_usage = \"deep\"))\n",
    "print(df.memory_usage(deep = True))"
   ]
  },
  {
   "cell_type": "code",
   "execution_count": 14,
   "metadata": {},
   "outputs": [
    {
     "name": "stdout",
     "output_type": "stream",
     "text": [
      "      co1  col2\n",
      "0     php     1\n",
      "1  python     2\n",
      "2    java     3\n",
      "3      c#     4\n",
      "4     c++     5\n"
     ]
    }
   ],
   "source": [
    "#72\n",
    "# Write a Pandas program to combine many given series to create a DataFrame.\n",
    "sr1 = pd.Series(['php', 'python', 'java', 'c#', 'c++'])\n",
    "sr2 = pd.Series([1, 2, 3, 4, 5])\n",
    "df = pd.DataFrame({'co1': sr1, 'col2': sr2})\n",
    "print(df)"
   ]
  },
  {
   "cell_type": "code",
   "execution_count": 19,
   "metadata": {},
   "outputs": [
    {
     "name": "stdout",
     "output_type": "stream",
     "text": [
      "                   A         B         C         D\n",
      "aLMb4p6g86 -1.657167 -0.297391  0.469203  0.038512\n",
      "z4rb29RpKE -0.663739 -1.471501  1.249168 -1.478771\n",
      "j6YyLUXUhG  0.718020 -0.286737  1.015421  2.708314\n",
      "lN3JW0Gxon -0.432012  1.256435 -0.185498 -0.657384\n",
      "XrsO2nWDFe  0.490453  0.149892  0.108396 -0.772461\n",
      "wUV50nE3pW -3.147637 -1.502966 -0.052439 -1.980943\n",
      "2CBFOGKmDl -0.719118  1.563734  1.039864 -0.442079\n",
      "EbEpEE9JEa -0.747829  0.961388 -0.962711  1.407708\n",
      "fiAyb5kSOa  0.369729 -0.095106  2.057085 -0.602097\n",
      "aUNDLdTnhL  1.522714 -0.230564 -0.365008  1.284540\n",
      "5Oau5wlPaC -0.100346 -1.123005 -0.168175 -0.946891\n",
      "yjbI31LHav -0.076498  0.173049 -0.043270  0.749721\n",
      "jVay5goOdg  0.528865 -0.011706 -1.624951 -0.292614\n",
      "t8fwiWT425 -0.768454  0.014386 -1.128733 -0.366959\n",
      "jFwsnbRjIQ  1.512440  0.389279 -0.812443 -0.206169\n",
      "Rv8fAROSwg  1.295423  1.898289 -1.707708 -0.657773\n",
      "E18WcamuOR -0.184124 -0.790022 -0.131282  1.576313\n",
      "eTflP28gNC -0.453181  1.417269 -0.770145  0.565320\n",
      "rzA5dxZR8j -0.514291 -0.919433 -1.060715 -0.975745\n",
      "GsoGeefP6f -0.360768  0.309555  0.243024  0.706451\n",
      "LYTl2KGEEo  0.138839  1.153170 -0.060257 -1.074217\n",
      "BNGtsX2QeK -0.586573  0.735448 -0.401404  0.018087\n",
      "f1Jxq4p47P -1.011575 -0.323735 -0.487402 -0.505328\n",
      "0ey1nHI5DR -0.017130 -0.977174 -0.239081 -0.373788\n",
      "EvygFtVCbh  1.393426  0.719446 -1.997466 -0.261693\n",
      "NuxjO7B0eE -0.494202  0.565026  0.125513 -0.061465\n",
      "Mk6fPcTzRo -0.245083 -0.743097 -0.184466 -0.424488\n",
      "omhqPRQOvw -1.483143  1.177595 -0.580586  1.704134\n",
      "jepxLaEmoo  2.440992 -0.228629 -0.510278 -1.304994\n",
      "zoW4JOOVm2  0.903411 -0.656938 -1.695988  1.396741\n",
      "\n",
      "DataFrame: Contains missing values:\n",
      "                   A         B         C         D\n",
      "2KFXQDUK04  0.081306  0.872097 -0.698787  0.355437\n",
      "nARePZHtrH -1.196831       NaN -1.734065 -0.729213\n",
      "Htoev4n0jJ  0.029370 -1.359052  0.301393 -1.163583\n",
      "18mV8QSa7D -0.516342  0.554362  0.259583       NaN\n",
      "ibURK1aQlj -0.513468  0.436420  0.621268       NaN\n",
      "LpN6j6XOyj  0.958736 -0.812124  0.646194 -0.262004\n",
      "ME76NOkZhl  0.166053 -0.879081 -1.373567  0.892966\n",
      "cciexvEo4F -0.367966  1.423931 -1.238936 -1.048790\n",
      "C08GgPWigN -0.990706 -0.114217  0.333255       NaN\n",
      "QYQtWH3abs -1.224480  0.251701  0.029294  0.148410\n",
      "KxJsjZW2ra -0.398637 -2.180879 -0.278743 -0.879097\n",
      "7npyGto2hb  0.362846       NaN -0.554128 -0.017347\n",
      "JOgqypZ0QA -0.395684       NaN -1.597552  2.186629\n",
      "Y0zDnVKInS  1.133529  0.504427  1.667308       NaN\n",
      "KFcQIzMUTV  0.792642       NaN -1.303750 -0.964686\n",
      "B8C3ONhuL7  1.338255 -0.476832  0.666948 -0.414069\n",
      "JiTvTPRYv0 -0.668346 -0.970666 -0.747966 -0.567177\n",
      "oF1tnvcU0l -1.833766 -1.281515       NaN -0.755212\n",
      "6Djofon32a       NaN  0.707214 -1.077716 -1.264509\n",
      "nw8IdutV57 -1.120224  1.445147 -0.705944 -0.135734\n",
      "aWQrzJR50r  1.737474  1.888159 -0.198090  0.319270\n",
      "TrdaShstDe -0.521728 -0.740422 -0.160491 -1.636347\n",
      "NJWZYChbAg -0.495257 -0.611706  0.399506 -0.423048\n",
      "rzjJk52c2b  0.737988 -1.936264  1.210776  0.947496\n",
      "oh6j227vsP  1.067229 -0.747564  2.620703  0.537680\n",
      "oieJfDrLSG -1.510191  1.126307       NaN  0.282196\n",
      "BpuFzLURsY -0.637828  1.120641 -2.419625 -0.113254\n",
      "9qtthJ1yxM  1.340771 -0.101808  1.493721  1.167144\n",
      "DlmLHtuKHc -0.309506 -0.449661  0.075739 -1.310910\n",
      "Mr5jUNdqsA  0.182994 -2.834120       NaN -1.138645\n",
      "\n",
      "DataFrame: Contains datetime values:\n",
      "                   A         B         C         D\n",
      "2000-01-03 -0.710319 -0.719511 -1.197235  1.255779\n",
      "2000-01-04  0.107639 -0.190360  1.656865 -0.201027\n",
      "2000-01-05  0.792847 -0.303094  0.453829  0.688743\n",
      "2000-01-06 -0.241586  0.371230 -0.217848 -0.396055\n",
      "2000-01-07  1.393247  0.009188  0.830128 -0.689683\n",
      "2000-01-10 -0.887564  0.721395 -0.116200  0.067981\n",
      "2000-01-11 -1.779106 -0.621091  0.664820  0.118230\n",
      "2000-01-12  0.006698  0.830690 -0.118126 -0.257346\n",
      "2000-01-13  0.469683 -0.083859  0.036557  0.721257\n",
      "2000-01-14  0.711512  0.582160 -0.889501  1.151366\n",
      "2000-01-17 -0.131484 -0.152435  1.055239  0.522052\n",
      "2000-01-18  0.389812 -0.201398  0.460025 -0.655284\n",
      "2000-01-19  1.978399 -1.264539 -1.346268 -1.520332\n",
      "2000-01-20  0.287065  0.397469 -3.163890 -0.899180\n",
      "2000-01-21  0.648391  0.635000 -1.105436  0.080925\n",
      "2000-01-24  0.566571  0.568243 -0.997686 -0.526005\n",
      "2000-01-25 -0.243522 -1.115986  0.601712 -0.867218\n",
      "2000-01-26  0.110103  0.961166 -0.661053  0.983924\n",
      "2000-01-27  0.454304 -0.107746 -0.440525  1.592251\n",
      "2000-01-28  0.127860  0.876509  0.895697 -1.425653\n",
      "2000-01-31  0.443606  0.309429  1.053396  0.580982\n",
      "2000-02-01  1.655980 -1.671738  0.950754  1.068178\n",
      "2000-02-02 -1.773765 -0.776376  1.059377 -0.358480\n",
      "2000-02-03 -0.928453 -1.042510 -0.650652  0.350889\n",
      "2000-02-04  0.307707 -0.042022 -1.071747  0.133816\n",
      "2000-02-07 -0.547102 -1.204599  0.378603  1.534685\n",
      "2000-02-08  2.088825 -0.188821 -0.227051 -0.178455\n",
      "2000-02-09  0.282700  0.037067  0.328674 -1.621928\n",
      "2000-02-10 -0.261287 -0.343239 -1.275782  0.240080\n",
      "2000-02-11  1.546216 -1.133913  0.431898  1.244496\n",
      "\n",
      "DataFrame: Contains mixed values:\n",
      "     A    B     C          D\n",
      "0  0.0  0.0  foo1 2009-01-01\n",
      "1  1.0  1.0  foo2 2009-01-02\n",
      "2  2.0  0.0  foo3 2009-01-05\n",
      "3  3.0  1.0  foo4 2009-01-06\n",
      "4  4.0  0.0  foo5 2009-01-07\n"
     ]
    }
   ],
   "source": [
    "#73\n",
    "# Write a Pandas program to create DataFrames that contains random values, contains missing values, contains datetime values and contains mixed values.\n",
    "df1 = pd.util.testing.makeDataFrame() # contains random values\n",
    "print(df1)\n",
    "print(\"\\nDataFrame: Contains missing values:\")\n",
    "df2 = pd.util.testing.makeMissingDataframe() # contains missing values\n",
    "print(df2)\n",
    "print(\"\\nDataFrame: Contains datetime values:\")\n",
    "df3 = pd.util.testing.makeTimeDataFrame() # contains datetime values\n",
    "print(df3)\n",
    "print(\"\\nDataFrame: Contains mixed values:\")\n",
    "df4 = pd.util.testing.makeMixedDataFrame() # contains mixed values\n",
    "print(df4)"
   ]
  },
  {
   "cell_type": "code",
   "execution_count": 37,
   "metadata": {},
   "outputs": [
    {
     "name": "stdout",
     "output_type": "stream",
     "text": [
      "               c1    c2\n",
      "2000-01-03  120.0   7.0\n",
      "2000-01-04  130.0   NaN\n",
      "2000-01-05  140.0  10.0\n",
      "2000-01-06  150.0   NaN\n",
      "2000-01-07    NaN   5.5\n",
      "2000-01-10  170.0  16.5\n",
      "               c1     c2\n",
      "2000-01-03  120.0   7.00\n",
      "2000-01-04  130.0   8.50\n",
      "2000-01-05  140.0  10.00\n",
      "2000-01-06  150.0   7.75\n",
      "2000-01-07  160.0   5.50\n",
      "2000-01-10  170.0  16.50\n"
     ]
    }
   ],
   "source": [
    "#74\n",
    "# Write a Pandas program to fill missing values in time series data.\n",
    "sdata = {\"c1\":[120, 130 ,140, 150, np.nan, 170], \"c2\":[7, np.nan, 10, np.nan, 5.5, 16.5]}\n",
    "df = pd.DataFrame(sdata)\n",
    "df.index = pd.util.testing.makeDateIndex()[0:6]\n",
    "print(df)\n",
    "print(df.interpolate())"
   ]
  },
  {
   "cell_type": "code",
   "execution_count": 44,
   "metadata": {},
   "outputs": [
    {
     "name": "stdout",
     "output_type": "stream",
     "text": [
      "    W   X   Y   Z\n",
      "0  68  78  84  86\n",
      "1  75  85  94  97\n",
      "3  80  80  83  72\n",
      "4  66  86  86  83\n"
     ]
    }
   ],
   "source": [
    "#75\n",
    "# Write a Pandas program to use a local variable within a query.\n",
    "df = pd.DataFrame({'W':[68,75,86,80,66],'X':[78,85,96,80,86], 'Y':[84,94,89,83,86],'Z':[86,97,96,72,83]})\n",
    "max_value = df['W'].max()\n",
    "print(df[df['W'] < max_value])"
   ]
  },
  {
   "cell_type": "code",
   "execution_count": 64,
   "metadata": {},
   "outputs": [
    {
     "name": "stdout",
     "output_type": "stream",
     "text": [
      "0    <class 'float'>\n",
      "1    <class 'float'>\n",
      "2      <class 'str'>\n",
      "3      <class 'str'>\n",
      "4      <class 'str'>\n",
      "Name: purchase, dtype: object\n",
      "0    <class 'float'>\n",
      "1    <class 'float'>\n",
      "2    <class 'float'>\n",
      "3    <class 'float'>\n",
      "4    <class 'float'>\n",
      "Name: purchase, dtype: object\n"
     ]
    }
   ],
   "source": [
    "#76\n",
    "# Write a Pandas program to clean object column with mixed data of a given DataFrame using regular expression.\n",
    "d = {\"agent\": [\"a001\", \"a002\", \"a003\", \"a003\", \"a004\"], \"purchase\":[4500.00, 7500.00, \"$3000.25\", \"$1250.35\", \"9000.00\"]}\n",
    "df = pd.DataFrame(d)\n",
    "print(df['purchase'].apply(type))\n",
    "df['purchase'] = df['purchase'].replace('[$]','', regex =True).astype('float')\n",
    "print(df['purchase'].apply(type))"
   ]
  },
  {
   "cell_type": "code",
   "execution_count": 68,
   "metadata": {},
   "outputs": [
    {
     "name": "stdout",
     "output_type": "stream",
     "text": [
      "[0 1 2 3 1]\n",
      "Index(['Alberto Franco', 'Gino Mcneill', 'Ryan Parkes', 'Eesha Hinton'], dtype='object')\n"
     ]
    }
   ],
   "source": [
    "#77\n",
    "# Write a Pandas program to get the numeric representation of an array by identifying distinct values of a given column of a dataframe. \n",
    "df = pd.DataFrame({\n",
    "    'Name': ['Alberto Franco','Gino Mcneill','Ryan Parkes', 'Eesha Hinton', 'Gino Mcneill'],\n",
    "    'Date_Of_Birth ': ['17/05/2002','16/02/1999','25/09/1998','11/05/2002','15/09/1997'],\n",
    "    'Age': [18.5, 21.2, 22.5, 22, 23]\n",
    "})\n",
    "codes, uniques = pd.factorize(df['Name'])\n",
    "print(codes)\n",
    "print(uniques)"
   ]
  },
  {
   "cell_type": "code",
   "execution_count": 76,
   "metadata": {},
   "outputs": [
    {
     "name": "stdout",
     "output_type": "stream",
     "text": [
      "    rnum\n",
      "0     23\n",
      "1      0\n",
      "2     27\n",
      "3      0\n",
      "4     34\n",
      "5      0\n",
      "6     34\n",
      "7      0\n",
      "8      0\n",
      "9      0\n",
      "10    34\n",
      "11     0\n",
      "12     0\n",
      "13     0\n",
      "14     0\n",
      "0     23\n",
      "1      0\n",
      "2     27\n",
      "3      0\n",
      "4     34\n",
      "5      0\n",
      "6     34\n",
      "7      0\n",
      "8      0\n",
      "9      0\n",
      "10    34\n",
      "11     0\n",
      "12     0\n",
      "13     0\n",
      "14     0\n",
      "Name: rnum, dtype: int64\n"
     ]
    }
   ],
   "source": [
    "#78\n",
    "# Write a Pandas program to replace the current value in a dataframe column based on last largest value. If the current value is less than last largest value replaces the value with 0.\n",
    "df = pd.DataFrame({'rnum':[23, 21, 27, 22, 34, 33, 34, 31, 25, 22, 34, 19, 31, 32, 19]})\n",
    "df['rnum'] = df['rnum'].where(df['rnum'].eq(df['rnum'].cummax()), 0)\n",
    "print(df)\n",
    "print(df['rnum'])"
   ]
  },
  {
   "cell_type": "code",
   "execution_count": 78,
   "metadata": {},
   "outputs": [
    {
     "name": "stdout",
     "output_type": "stream",
     "text": [
      "   user_id           created_at\n",
      "0   363614  2022-05-16 02:06:01\n",
      "1   364957  2022-05-18 06:08:24\n",
      "2   370901  2022-05-27 10:21:18\n",
      "3   369611  2022-05-25 11:43:07\n",
      "4   370077  2022-05-26 06:37:50\n",
      "5   370201  2022-05-26 10:14:55\n",
      "6   366145  2022-05-20 05:48:28\n"
     ]
    }
   ],
   "source": [
    "#79\n",
    "# Write a Pandas program to create a DataFrame from the clipboard (data from an Excel spreadsheet or a Google Sheet).\n",
    "df = pd.read_clipboard()\n",
    "print(df)"
   ]
  },
  {
   "cell_type": "code",
   "execution_count": 81,
   "metadata": {},
   "outputs": [
    {
     "name": "stdout",
     "output_type": "stream",
     "text": [
      "      W     X   Y   Z\n",
      "0  68.0  78.0  84  86\n",
      "1  75.0  85.0  94  97\n",
      "2  86.0   NaN  89  96\n",
      "3  80.0  80.0  83  72\n",
      "4   NaN  86.0  86  83\n",
      "      W   X   Y   Z\n",
      "0  78.0  78  84  86\n",
      "1  75.0  85  84  97\n",
      "2  86.0  96  89  96\n",
      "3  80.0  80  83  72\n",
      "4   NaN  76  86  83\n",
      "       W      X      Y      Z\n",
      "0   True  False  False  False\n",
      "1  False  False   True  False\n",
      "2  False   True  False  False\n",
      "3  False  False  False  False\n",
      "4   True   True  False  False\n"
     ]
    }
   ],
   "source": [
    "#80\n",
    "# Write a Pandas program to check for inequality of two given DataFrames.\n",
    "df1 = pd.DataFrame({'W':[68,75,86,80,None],'X':[78,85,None,80,86], 'Y':[84,94,89,83,86],'Z':[86,97,96,72,83]});\n",
    "df2 = pd.DataFrame({'W':[78,75,86,80,None],'X':[78,85,96,80,76], 'Y':[84,84,89,83,86],'Z':[86,97,96,72,83]});\n",
    "print(df1)\n",
    "print(df2)\n",
    "print(df1.ne(df2))"
   ]
  },
  {
   "cell_type": "code",
   "execution_count": 83,
   "metadata": {},
   "outputs": [
    {
     "name": "stdout",
     "output_type": "stream",
     "text": [
      "   col1  col2  col3\n",
      "0     1     4     7\n",
      "1     2     5     5\n",
      "2     3     6     8\n",
      "3     4     9    12\n",
      "4     7     5     1\n",
      "5    11     0    11\n",
      "   col1  col2  col3\n",
      "0     1     4     7\n",
      "1     2     5     5\n",
      "2     3     6     8\n",
      "   col1  col2  col3\n",
      "5    11     0    11\n",
      "0     1     4     7\n",
      "1     2     5     5\n",
      "   col1  col2  col3\n",
      "4     7     5     1\n",
      "1     2     5     5\n",
      "0     1     4     7\n"
     ]
    }
   ],
   "source": [
    "# 81\n",
    "# Write a Pandas program to get lowest n records within each group of a given DataFrame.\n",
    "d = {'col1': [1, 2, 3, 4, 7, 11], 'col2': [4, 5, 6, 9, 5, 0], 'col3': [7, 5, 8, 12, 1,11]}\n",
    "df = pd.DataFrame(data=d)\n",
    "print(df)\n",
    "df1 = df.nsmallest(3, 'col1')\n",
    "print(df1)\n",
    "df2 = df.nsmallest(3, 'col2')\n",
    "print(df2)\n",
    "df3 = df.nsmallest(3, 'col3')\n",
    "print(df3)"
   ]
  }
 ],
 "metadata": {
  "interpreter": {
   "hash": "ec6988cacb878edcf37e0f3fff43a63c38bec0d135f27b30ff2171c7b9d23b10"
  },
  "kernelspec": {
   "display_name": "Python 3.9.7 ('ml')",
   "language": "python",
   "name": "python3"
  },
  "language_info": {
   "codemirror_mode": {
    "name": "ipython",
    "version": 3
   },
   "file_extension": ".py",
   "mimetype": "text/x-python",
   "name": "python",
   "nbconvert_exporter": "python",
   "pygments_lexer": "ipython3",
   "version": "3.9.7"
  },
  "orig_nbformat": 4
 },
 "nbformat": 4,
 "nbformat_minor": 2
}
